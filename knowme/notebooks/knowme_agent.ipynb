{
 "cells": [
  {
   "cell_type": "code",
   "execution_count": 1,
   "metadata": {},
   "outputs": [],
   "source": [
    "%load_ext autoreload\n",
    "%autoreload 2"
   ]
  },
  {
   "cell_type": "code",
   "execution_count": 23,
   "metadata": {},
   "outputs": [],
   "source": [
    "from knowme.tools import SiteAnswerTool, CVAnswerTool\n",
    "from langchain_core.messages import HumanMessage, SystemMessage\n",
    "from langchain_openai import ChatOpenAI\n",
    "from langchain.agents import AgentType\n",
    "import os"
   ]
  },
  {
   "cell_type": "code",
   "execution_count": 3,
   "metadata": {},
   "outputs": [],
   "source": [
    "site_answer_tool = SiteAnswerTool()\n",
    "cv_answer_tool = CVAnswerTool()\n",
    "\n",
    "tools = [site_answer_tool, cv_answer_tool]"
   ]
  },
  {
   "cell_type": "code",
   "execution_count": 14,
   "metadata": {},
   "outputs": [],
   "source": [
    "agent_message = SystemMessage(\n",
    "    content=\"\"\" You will answer questions from the user about a candidate. \n",
    "    The answer might be present in their Notion Website or it might be present in their CV \n",
    "    The CV is usually in the pdf format. Your job is to chose the appropriate tool to answer\n",
    "    the question from. If the information is not present in the website, then consider the CV.     \n",
    "    \"\"\"\n",
    ")\n",
    "agent_kwargs = {\"system_message\": agent_message}"
   ]
  },
  {
   "cell_type": "code",
   "execution_count": 15,
   "metadata": {},
   "outputs": [],
   "source": [
    "llm = ChatOpenAI(\n",
    "    model=\"gpt-4\", temperature=0, verbose=True, api_key=os.environ[\"OPENAI_API_KEY\"]\n",
    ")"
   ]
  },
  {
   "cell_type": "code",
   "execution_count": 16,
   "metadata": {},
   "outputs": [],
   "source": [
    "model_with_tools = llm.bind_tools(tools)"
   ]
  },
  {
   "cell_type": "code",
   "execution_count": 17,
   "metadata": {},
   "outputs": [
    {
     "name": "stdout",
     "output_type": "stream",
     "text": [
      "Content string I'm sorry, as an AI, I don't have the capability to provide information about meals. I'm here to assist with tasks and answer questions to the best of my ability.\n",
      "Tool calls: []\n"
     ]
    }
   ],
   "source": [
    "response = model_with_tools.invoke([HumanMessage(content=\"What is up for dinner?\")])\n",
    "print(f\"Content string {response.content}\")\n",
    "print(f\"Tool calls: {response.tool_calls}\")"
   ]
  },
  {
   "cell_type": "code",
   "execution_count": 18,
   "metadata": {},
   "outputs": [],
   "source": [
    "from langgraph.prebuilt import create_react_agent\n",
    "\n",
    "agent_executor = create_react_agent(llm, tools)"
   ]
  },
  {
   "cell_type": "code",
   "execution_count": 9,
   "metadata": {},
   "outputs": [
    {
     "data": {
      "text/plain": [
       "[HumanMessage(content='hi!', id='7182f80c-50de-4146-9e78-cb8c52a9a2d9'),\n",
       " AIMessage(content='Hello! How can I assist you today?', response_metadata={'token_usage': {'completion_tokens': 10, 'prompt_tokens': 139, 'total_tokens': 149}, 'model_name': 'gpt-4', 'system_fingerprint': None, 'finish_reason': 'stop', 'logprobs': None}, id='run-6eb793b4-86cb-48e1-bddb-40fa80b86b03-0', usage_metadata={'input_tokens': 139, 'output_tokens': 10, 'total_tokens': 149})]"
      ]
     },
     "execution_count": 9,
     "metadata": {},
     "output_type": "execute_result"
    }
   ],
   "source": [
    "response = agent_executor.invoke({\"messages\": [HumanMessage(content=\"hi!\")]})\n",
    "\n",
    "response[\"messages\"]"
   ]
  },
  {
   "cell_type": "code",
   "execution_count": 10,
   "metadata": {},
   "outputs": [
    {
     "data": {
      "text/plain": [
       "[HumanMessage(content='What is the news from Abhinav in March 2024', id='7b3290b8-9d37-45ab-a11a-bb7bcd46a80a'),\n",
       " AIMessage(content='', additional_kwargs={'tool_calls': [{'id': 'call_7SZsErLbDLoXL2dr0agysTy6', 'function': {'arguments': '{\\n\"query\": \"What is the news from Abhinav in March 2024\",\\n\"session_id\": \"123456\"\\n}', 'name': 'site-answer-tool'}, 'type': 'function'}]}, response_metadata={'token_usage': {'completion_tokens': 35, 'prompt_tokens': 150, 'total_tokens': 185}, 'model_name': 'gpt-4', 'system_fingerprint': None, 'finish_reason': 'tool_calls', 'logprobs': None}, id='run-5568cfd0-350e-4719-bd36-d3f8f5794168-0', tool_calls=[{'name': 'site-answer-tool', 'args': {'query': 'What is the news from Abhinav in March 2024', 'session_id': '123456'}, 'id': 'call_7SZsErLbDLoXL2dr0agysTy6'}], usage_metadata={'input_tokens': 150, 'output_tokens': 35, 'total_tokens': 185}),\n",
       " ToolMessage(content='In March 2024, Abhinav Ramesh Kashyap presented their survey paper on sentence representations at the European Chapter of the Association for Computational Linguistics (EACL).', name='site-answer-tool', id='d139a46b-2a03-463a-bb2f-7e47b43d9cf3', tool_call_id='call_7SZsErLbDLoXL2dr0agysTy6'),\n",
       " AIMessage(content='In March 2024, Abhinav Ramesh Kashyap presented their survey paper on sentence representations at the European Chapter of the Association for Computational Linguistics (EACL).', response_metadata={'token_usage': {'completion_tokens': 38, 'prompt_tokens': 229, 'total_tokens': 267}, 'model_name': 'gpt-4', 'system_fingerprint': None, 'finish_reason': 'stop', 'logprobs': None}, id='run-17d26ca4-4039-4871-a9c8-8edad452a7c8-0', usage_metadata={'input_tokens': 229, 'output_tokens': 38, 'total_tokens': 267})]"
      ]
     },
     "execution_count": 10,
     "metadata": {},
     "output_type": "execute_result"
    }
   ],
   "source": [
    "response = agent_executor.invoke(\n",
    "    {\"messages\": [HumanMessage(content=\"What is the news from Abhinav in March 2024\")]}\n",
    ")\n",
    "\n",
    "response[\"messages\"]"
   ]
  },
  {
   "cell_type": "code",
   "execution_count": 22,
   "metadata": {},
   "outputs": [
    {
     "data": {
      "text/plain": [
       "[HumanMessage(content='Which students has abhinav offered mentorship to in his CV?', id='8c0b166d-d7c1-40e3-a180-7d6a9e8e3738'),\n",
       " AIMessage(content='', additional_kwargs={'tool_calls': [{'id': 'call_34C7v5OwFP9URc5AES7O5nNG', 'function': {'arguments': '{\\n  \"query\": \"Which students has abhinav offered mentorship to in his CV?\",\\n  \"session_id\": \"1234\"\\n}', 'name': 'cv-answer-tool'}, 'type': 'function'}]}, response_metadata={'token_usage': {'completion_tokens': 37, 'prompt_tokens': 151, 'total_tokens': 188}, 'model_name': 'gpt-4', 'system_fingerprint': None, 'finish_reason': 'tool_calls', 'logprobs': None}, id='run-246efe20-7321-4555-868c-04b638d1f688-0', tool_calls=[{'name': 'cv-answer-tool', 'args': {'query': 'Which students has abhinav offered mentorship to in his CV?', 'session_id': '1234'}, 'id': 'call_34C7v5OwFP9URc5AES7O5nNG'}], usage_metadata={'input_tokens': 151, 'output_tokens': 37, 'total_tokens': 188}),\n",
       " ToolMessage(content='Abhinav Ramesh Kashyap has offered mentorship to the following students according to his CV: Anand Subramanian for his Masters Thesis & Internship, Benedict for his Masters Thesis, Li Xinze for his Undergrad Final Year Project, Calvin Tantio for his Undergrad Final Year Project, and Shi Tian for his Undergrad Final Year Project.', name='cv-answer-tool', id='228bb73b-cf9d-4f00-ae5a-843913fd3240', tool_call_id='call_34C7v5OwFP9URc5AES7O5nNG'),\n",
       " AIMessage(content='Abhinav Ramesh Kashyap has offered mentorship to the following students according to his CV: \\n\\n1. Anand Subramanian for his Masters Thesis & Internship\\n2. Benedict for his Masters Thesis\\n3. Li Xinze for his Undergrad Final Year Project\\n4. Calvin Tantio for his Undergrad Final Year Project\\n5. Shi Tian for his Undergrad Final Year Project', response_metadata={'token_usage': {'completion_tokens': 85, 'prompt_tokens': 268, 'total_tokens': 353}, 'model_name': 'gpt-4', 'system_fingerprint': None, 'finish_reason': 'stop', 'logprobs': None}, id='run-87801e92-8fbd-4d26-9889-8195062d3395-0', usage_metadata={'input_tokens': 268, 'output_tokens': 85, 'total_tokens': 353})]"
      ]
     },
     "execution_count": 22,
     "metadata": {},
     "output_type": "execute_result"
    }
   ],
   "source": [
    "response = agent_executor.invoke(\n",
    "    {\n",
    "        \"messages\": [\n",
    "            HumanMessage(\n",
    "                content=\"Which students has abhinav offered mentorship to in his CV?\"\n",
    "            )\n",
    "        ]\n",
    "    }\n",
    ")\n",
    "\n",
    "response[\"messages\"]"
   ]
  },
  {
   "cell_type": "code",
   "execution_count": 24,
   "metadata": {},
   "outputs": [],
   "source": [
    "from langchain.agents import initialize_agent"
   ]
  },
  {
   "cell_type": "code",
   "execution_count": 25,
   "metadata": {},
   "outputs": [
    {
     "name": "stderr",
     "output_type": "stream",
     "text": [
      "/Users/abhinavkashyap/Library/Caches/pypoetry/virtualenvs/knowme-Vm6gcGsG-py3.9/lib/python3.9/site-packages/langchain_core/_api/deprecation.py:119: LangChainDeprecationWarning: The function `initialize_agent` was deprecated in LangChain 0.1.0 and will be removed in 0.3.0. Use Use new agent constructor methods like create_react_agent, create_json_agent, create_structured_chat_agent, etc. instead.\n",
      "  warn_deprecated(\n"
     ]
    }
   ],
   "source": [
    "agent = initialize_agent(\n",
    "    tools,\n",
    "    llm,\n",
    "    agent=AgentType.OPENAI_FUNCTIONS,\n",
    "    verbose=True,\n",
    "    agent_kwargs=agent_kwargs,\n",
    ")"
   ]
  },
  {
   "cell_type": "code",
   "execution_count": 26,
   "metadata": {},
   "outputs": [
    {
     "name": "stderr",
     "output_type": "stream",
     "text": [
      "/Users/abhinavkashyap/Library/Caches/pypoetry/virtualenvs/knowme-Vm6gcGsG-py3.9/lib/python3.9/site-packages/langchain_core/_api/deprecation.py:119: LangChainDeprecationWarning: The method `Chain.run` was deprecated in langchain 0.1.0 and will be removed in 0.3.0. Use invoke instead.\n",
      "  warn_deprecated(\n"
     ]
    },
    {
     "name": "stdout",
     "output_type": "stream",
     "text": [
      "\n",
      "\n",
      "\u001b[1m> Entering new AgentExecutor chain...\u001b[0m\n",
      "\u001b[32;1m\u001b[1;3m\n",
      "Invoking: `site-answer-tool` with `{'query': 'Which students has abhinav offered mentorship to in the past few years', 'session_id': '123456'}`\n",
      "\n",
      "\n",
      "\u001b[0m\u001b[36;1m\u001b[1;3mThe provided context does not give information about any students that Abhinav Ramesh Kashyap has offered mentorship to in the past few years.\u001b[0m\u001b[32;1m\u001b[1;3m\n",
      "Invoking: `cv-answer-tool` with `{'query': 'Which students has abhinav offered mentorship to in the past few years', 'session_id': '123456'}`\n",
      "\n",
      "\n",
      "\u001b[0m\u001b[33;1m\u001b[1;3mAbhinav Ramesh Kashyap has offered mentorship to Anand Subramanian on his Masters Thesis & Internship in 2023-2024, Benedict on his Masters Thesis in 2021-2022, Li Xinze on his Undergrad Final Year Project in 2019-2020, and both Calvin Tantio and Shi Tian on their Undergrad Final Year Projects in 2018-2019.\u001b[0m\u001b[32;1m\u001b[1;3mAbhinav Ramesh Kashyap has offered mentorship to the following students:\n",
      "\n",
      "1. Anand Subramanian on his Masters Thesis & Internship in 2023-2024\n",
      "2. Benedict on his Masters Thesis in 2021-2022\n",
      "3. Li Xinze on his Undergrad Final Year Project in 2019-2020\n",
      "4. Calvin Tantio and Shi Tian on their Undergrad Final Year Projects in 2018-2019.\u001b[0m\n",
      "\n",
      "\u001b[1m> Finished chain.\u001b[0m\n"
     ]
    }
   ],
   "source": [
    "response = agent.run(\n",
    "    \"Which students has abhinav offered mentorship to in the past few years\"\n",
    ")"
   ]
  },
  {
   "cell_type": "code",
   "execution_count": 28,
   "metadata": {},
   "outputs": [],
   "source": [
    "# This works much better than the create-react agent\n",
    "# This just works on prompts and gpt4 has good capabilities to do the function calling"
   ]
  },
  {
   "cell_type": "code",
   "execution_count": 33,
   "metadata": {},
   "outputs": [],
   "source": [
    "# lets try creating the tool calling agent instead and see how it works\n",
    "from langchain_core.prompts import ChatPromptTemplate\n",
    "from langchain.agents import AgentExecutor, create_tool_calling_agent\n",
    "\n",
    "prompt = ChatPromptTemplate.from_messages(\n",
    "    [\n",
    "        (\n",
    "            \"system\",\n",
    "            \"\"\"You will answer questions from the user about a candidate. \n",
    "            The answer might be present in their Notion Website or it might be present in their CV \n",
    "            The CV is usually in the pdf format. Your job is to chose the either the site-answer-tool or cv-answer-tool to answer \n",
    "            the question from. If the answer is not available in the site-answer-tool use the cv-answer-tool.\"\"\",\n",
    "        ),\n",
    "        (\"placeholder\", \"{chat_history}\"),\n",
    "        (\"human\", \"{input}\"),\n",
    "        (\"placeholder\", \"{agent_scratchpad}\"),\n",
    "    ]\n",
    ")"
   ]
  },
  {
   "cell_type": "code",
   "execution_count": 34,
   "metadata": {},
   "outputs": [],
   "source": [
    "agent = create_tool_calling_agent(llm, tools, prompt)"
   ]
  },
  {
   "cell_type": "code",
   "execution_count": 35,
   "metadata": {},
   "outputs": [],
   "source": [
    "agent_executor = AgentExecutor(agent=agent, tools=tools, verbose=True)"
   ]
  },
  {
   "cell_type": "code",
   "execution_count": 37,
   "metadata": {},
   "outputs": [
    {
     "name": "stdout",
     "output_type": "stream",
     "text": [
      "\n",
      "\n",
      "\u001b[1m> Entering new AgentExecutor chain...\u001b[0m\n",
      "\u001b[32;1m\u001b[1;3m\n",
      "Invoking: `site-answer-tool` with `{'query': 'Which students has abhinav offered mentorship to in the past few years', 'session_id': '123456'}`\n",
      "\n",
      "\n",
      "\u001b[0m\u001b[36;1m\u001b[1;3mThe provided context does not give information about any students that Abhinav Ramesh Kashyap has offered mentorship to in the past few years.\u001b[0m\u001b[32;1m\u001b[1;3m\n",
      "Invoking: `cv-answer-tool` with `{'query': 'Which students has abhinav offered mentorship to in the past few years', 'session_id': '123456'}`\n",
      "\n",
      "\n",
      "\u001b[0m\u001b[33;1m\u001b[1;3mAbhinav Ramesh Kashyap has offered mentorship to several students in the past few years. These students include Anand Subramanian for his Masters Thesis & Internship in 2023-2024, Benedict for his Masters Thesis in 2021-2022, Li Xinze for his Undergrad Final Year Project in 2019-2020, and Calvin Tantio and Shi Tian for their Undergrad Final Year Projects in 2018-2019.\u001b[0m\u001b[32;1m\u001b[1;3mAbhinav Ramesh Kashyap has offered mentorship to several students in the past few years. These students include:\n",
      "\n",
      "1. Anand Subramanian for his Masters Thesis & Internship in 2023-2024\n",
      "2. Benedict for his Masters Thesis in 2021-2022\n",
      "3. Li Xinze for his Undergrad Final Year Project in 2019-2020\n",
      "4. Calvin Tantio and Shi Tian for their Undergrad Final Year Projects in 2018-2019.\u001b[0m\n",
      "\n",
      "\u001b[1m> Finished chain.\u001b[0m\n"
     ]
    }
   ],
   "source": [
    "ans = agent_executor.invoke(\n",
    "    {\"input\": \"Which students has abhinav offered mentorship to in the past few years\"}\n",
    ")"
   ]
  },
  {
   "cell_type": "code",
   "execution_count": 39,
   "metadata": {},
   "outputs": [
    {
     "data": {
      "text/plain": [
       "'Abhinav Ramesh Kashyap has offered mentorship to several students in the past few years. These students include:\\n\\n1. Anand Subramanian for his Masters Thesis & Internship in 2023-2024\\n2. Benedict for his Masters Thesis in 2021-2022\\n3. Li Xinze for his Undergrad Final Year Project in 2019-2020\\n4. Calvin Tantio and Shi Tian for their Undergrad Final Year Projects in 2018-2019.'"
      ]
     },
     "execution_count": 39,
     "metadata": {},
     "output_type": "execute_result"
    }
   ],
   "source": [
    "ans[\"output\"]"
   ]
  },
  {
   "cell_type": "code",
   "execution_count": null,
   "metadata": {},
   "outputs": [],
   "source": [
    "for chunk in agent_executor.stream(\n",
    "    {\"input\": \"Which students has abhinav offered mentorship to in the past few years\"}\n",
    "):\n",
    "    print(chunk)\n",
    "    print(\"====================\")"
   ]
  }
 ],
 "metadata": {
  "kernelspec": {
   "display_name": "knowme-Vm6gcGsG-py3.9",
   "language": "python",
   "name": "python3"
  },
  "language_info": {
   "codemirror_mode": {
    "name": "ipython",
    "version": 3
   },
   "file_extension": ".py",
   "mimetype": "text/x-python",
   "name": "python",
   "nbconvert_exporter": "python",
   "pygments_lexer": "ipython3",
   "version": "3.9.13"
  }
 },
 "nbformat": 4,
 "nbformat_minor": 2
}
