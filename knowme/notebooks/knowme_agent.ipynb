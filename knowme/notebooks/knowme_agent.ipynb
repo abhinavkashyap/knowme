{
 "cells": [
  {
   "cell_type": "code",
   "execution_count": 1,
   "metadata": {},
   "outputs": [],
   "source": [
    "%load_ext autoreload\n",
    "%autoreload 2"
   ]
  },
  {
   "cell_type": "code",
   "execution_count": 3,
   "metadata": {},
   "outputs": [],
   "source": [
    "from knowme.tools import SiteAnswerTool, CVAnswerTool\n",
    "from langchain_core.messages import HumanMessage, SystemMessage\n",
    "from langchain_openai import ChatOpenAI\n",
    "from langchain.agents import AgentType\n",
    "import os"
   ]
  },
  {
   "cell_type": "code",
   "execution_count": 4,
   "metadata": {},
   "outputs": [],
   "source": [
    "site_answer_tool = SiteAnswerTool()\n",
    "cv_answer_tool = CVAnswerTool()\n",
    "\n",
    "tools = [site_answer_tool, cv_answer_tool]"
   ]
  },
  {
   "cell_type": "code",
   "execution_count": 5,
   "metadata": {},
   "outputs": [],
   "source": [
    "agent_message = SystemMessage(\n",
    "    content=\"\"\" You will answer questions from the user about a candidate. \n",
    "    The answer might be present in their Notion Website or it might be present in their CV \n",
    "    The CV is usually in the pdf format. Your job is to chose the appropriate tool to answer\n",
    "    the question from. If the information is not present in the website, then consider the CV.     \n",
    "    \"\"\"\n",
    ")\n",
    "agent_kwargs = {\"system_message\": agent_message}"
   ]
  },
  {
   "cell_type": "code",
   "execution_count": 6,
   "metadata": {},
   "outputs": [],
   "source": [
    "llm = ChatOpenAI(\n",
    "    model=\"gpt-4\", temperature=0, verbose=True, api_key=os.environ[\"OPENAI_API_KEY\"]\n",
    ")"
   ]
  },
  {
   "cell_type": "code",
   "execution_count": 7,
   "metadata": {},
   "outputs": [],
   "source": [
    "model_with_tools = llm.bind_tools(tools)"
   ]
  },
  {
   "cell_type": "code",
   "execution_count": 8,
   "metadata": {},
   "outputs": [
    {
     "name": "stdout",
     "output_type": "stream",
     "text": [
      "Content string I'm sorry, as an AI, I don't have the capability to provide information about personal activities such as dinner plans. I'm here to assist with tasks and provide information within my programming.\n",
      "Tool calls: []\n"
     ]
    }
   ],
   "source": [
    "response = model_with_tools.invoke([HumanMessage(content=\"What is up for dinner?\")])\n",
    "print(f\"Content string {response.content}\")\n",
    "print(f\"Tool calls: {response.tool_calls}\")"
   ]
  },
  {
   "cell_type": "code",
   "execution_count": 18,
   "metadata": {},
   "outputs": [],
   "source": [
    "from langgraph.prebuilt import create_react_agent\n",
    "\n",
    "agent_executor = create_react_agent(llm, tools)"
   ]
  },
  {
   "cell_type": "code",
   "execution_count": 9,
   "metadata": {},
   "outputs": [
    {
     "data": {
      "text/plain": [
       "[HumanMessage(content='hi!', id='7182f80c-50de-4146-9e78-cb8c52a9a2d9'),\n",
       " AIMessage(content='Hello! How can I assist you today?', response_metadata={'token_usage': {'completion_tokens': 10, 'prompt_tokens': 139, 'total_tokens': 149}, 'model_name': 'gpt-4', 'system_fingerprint': None, 'finish_reason': 'stop', 'logprobs': None}, id='run-6eb793b4-86cb-48e1-bddb-40fa80b86b03-0', usage_metadata={'input_tokens': 139, 'output_tokens': 10, 'total_tokens': 149})]"
      ]
     },
     "execution_count": 9,
     "metadata": {},
     "output_type": "execute_result"
    }
   ],
   "source": [
    "response = agent_executor.invoke({\"messages\": [HumanMessage(content=\"hi!\")]})\n",
    "\n",
    "response[\"messages\"]"
   ]
  },
  {
   "cell_type": "code",
   "execution_count": 10,
   "metadata": {},
   "outputs": [
    {
     "data": {
      "text/plain": [
       "[HumanMessage(content='What is the news from Abhinav in March 2024', id='7b3290b8-9d37-45ab-a11a-bb7bcd46a80a'),\n",
       " AIMessage(content='', additional_kwargs={'tool_calls': [{'id': 'call_7SZsErLbDLoXL2dr0agysTy6', 'function': {'arguments': '{\\n\"query\": \"What is the news from Abhinav in March 2024\",\\n\"session_id\": \"123456\"\\n}', 'name': 'site-answer-tool'}, 'type': 'function'}]}, response_metadata={'token_usage': {'completion_tokens': 35, 'prompt_tokens': 150, 'total_tokens': 185}, 'model_name': 'gpt-4', 'system_fingerprint': None, 'finish_reason': 'tool_calls', 'logprobs': None}, id='run-5568cfd0-350e-4719-bd36-d3f8f5794168-0', tool_calls=[{'name': 'site-answer-tool', 'args': {'query': 'What is the news from Abhinav in March 2024', 'session_id': '123456'}, 'id': 'call_7SZsErLbDLoXL2dr0agysTy6'}], usage_metadata={'input_tokens': 150, 'output_tokens': 35, 'total_tokens': 185}),\n",
       " ToolMessage(content='In March 2024, Abhinav Ramesh Kashyap presented their survey paper on sentence representations at the European Chapter of the Association for Computational Linguistics (EACL).', name='site-answer-tool', id='d139a46b-2a03-463a-bb2f-7e47b43d9cf3', tool_call_id='call_7SZsErLbDLoXL2dr0agysTy6'),\n",
       " AIMessage(content='In March 2024, Abhinav Ramesh Kashyap presented their survey paper on sentence representations at the European Chapter of the Association for Computational Linguistics (EACL).', response_metadata={'token_usage': {'completion_tokens': 38, 'prompt_tokens': 229, 'total_tokens': 267}, 'model_name': 'gpt-4', 'system_fingerprint': None, 'finish_reason': 'stop', 'logprobs': None}, id='run-17d26ca4-4039-4871-a9c8-8edad452a7c8-0', usage_metadata={'input_tokens': 229, 'output_tokens': 38, 'total_tokens': 267})]"
      ]
     },
     "execution_count": 10,
     "metadata": {},
     "output_type": "execute_result"
    }
   ],
   "source": [
    "response = agent_executor.invoke(\n",
    "    {\"messages\": [HumanMessage(content=\"What is the news from Abhinav in March 2024\")]}\n",
    ")\n",
    "\n",
    "response[\"messages\"]"
   ]
  },
  {
   "cell_type": "code",
   "execution_count": 22,
   "metadata": {},
   "outputs": [
    {
     "data": {
      "text/plain": [
       "[HumanMessage(content='Which students has abhinav offered mentorship to in his CV?', id='8c0b166d-d7c1-40e3-a180-7d6a9e8e3738'),\n",
       " AIMessage(content='', additional_kwargs={'tool_calls': [{'id': 'call_34C7v5OwFP9URc5AES7O5nNG', 'function': {'arguments': '{\\n  \"query\": \"Which students has abhinav offered mentorship to in his CV?\",\\n  \"session_id\": \"1234\"\\n}', 'name': 'cv-answer-tool'}, 'type': 'function'}]}, response_metadata={'token_usage': {'completion_tokens': 37, 'prompt_tokens': 151, 'total_tokens': 188}, 'model_name': 'gpt-4', 'system_fingerprint': None, 'finish_reason': 'tool_calls', 'logprobs': None}, id='run-246efe20-7321-4555-868c-04b638d1f688-0', tool_calls=[{'name': 'cv-answer-tool', 'args': {'query': 'Which students has abhinav offered mentorship to in his CV?', 'session_id': '1234'}, 'id': 'call_34C7v5OwFP9URc5AES7O5nNG'}], usage_metadata={'input_tokens': 151, 'output_tokens': 37, 'total_tokens': 188}),\n",
       " ToolMessage(content='Abhinav Ramesh Kashyap has offered mentorship to the following students according to his CV: Anand Subramanian for his Masters Thesis & Internship, Benedict for his Masters Thesis, Li Xinze for his Undergrad Final Year Project, Calvin Tantio for his Undergrad Final Year Project, and Shi Tian for his Undergrad Final Year Project.', name='cv-answer-tool', id='228bb73b-cf9d-4f00-ae5a-843913fd3240', tool_call_id='call_34C7v5OwFP9URc5AES7O5nNG'),\n",
       " AIMessage(content='Abhinav Ramesh Kashyap has offered mentorship to the following students according to his CV: \\n\\n1. Anand Subramanian for his Masters Thesis & Internship\\n2. Benedict for his Masters Thesis\\n3. Li Xinze for his Undergrad Final Year Project\\n4. Calvin Tantio for his Undergrad Final Year Project\\n5. Shi Tian for his Undergrad Final Year Project', response_metadata={'token_usage': {'completion_tokens': 85, 'prompt_tokens': 268, 'total_tokens': 353}, 'model_name': 'gpt-4', 'system_fingerprint': None, 'finish_reason': 'stop', 'logprobs': None}, id='run-87801e92-8fbd-4d26-9889-8195062d3395-0', usage_metadata={'input_tokens': 268, 'output_tokens': 85, 'total_tokens': 353})]"
      ]
     },
     "execution_count": 22,
     "metadata": {},
     "output_type": "execute_result"
    }
   ],
   "source": [
    "response = agent_executor.invoke(\n",
    "    {\n",
    "        \"messages\": [\n",
    "            HumanMessage(\n",
    "                content=\"Which students has abhinav offered mentorship to in his CV?\"\n",
    "            )\n",
    "        ]\n",
    "    }\n",
    ")\n",
    "\n",
    "response[\"messages\"]"
   ]
  },
  {
   "cell_type": "code",
   "execution_count": 24,
   "metadata": {},
   "outputs": [],
   "source": [
    "from langchain.agents import initialize_agent"
   ]
  },
  {
   "cell_type": "code",
   "execution_count": 25,
   "metadata": {},
   "outputs": [
    {
     "name": "stderr",
     "output_type": "stream",
     "text": [
      "/Users/abhinavkashyap/Library/Caches/pypoetry/virtualenvs/knowme-Vm6gcGsG-py3.9/lib/python3.9/site-packages/langchain_core/_api/deprecation.py:119: LangChainDeprecationWarning: The function `initialize_agent` was deprecated in LangChain 0.1.0 and will be removed in 0.3.0. Use Use new agent constructor methods like create_react_agent, create_json_agent, create_structured_chat_agent, etc. instead.\n",
      "  warn_deprecated(\n"
     ]
    }
   ],
   "source": [
    "agent = initialize_agent(\n",
    "    tools,\n",
    "    llm,\n",
    "    agent=AgentType.OPENAI_FUNCTIONS,\n",
    "    verbose=True,\n",
    "    agent_kwargs=agent_kwargs,\n",
    ")"
   ]
  },
  {
   "cell_type": "code",
   "execution_count": 26,
   "metadata": {},
   "outputs": [
    {
     "name": "stderr",
     "output_type": "stream",
     "text": [
      "/Users/abhinavkashyap/Library/Caches/pypoetry/virtualenvs/knowme-Vm6gcGsG-py3.9/lib/python3.9/site-packages/langchain_core/_api/deprecation.py:119: LangChainDeprecationWarning: The method `Chain.run` was deprecated in langchain 0.1.0 and will be removed in 0.3.0. Use invoke instead.\n",
      "  warn_deprecated(\n"
     ]
    },
    {
     "name": "stdout",
     "output_type": "stream",
     "text": [
      "\n",
      "\n",
      "\u001b[1m> Entering new AgentExecutor chain...\u001b[0m\n",
      "\u001b[32;1m\u001b[1;3m\n",
      "Invoking: `site-answer-tool` with `{'query': 'Which students has abhinav offered mentorship to in the past few years', 'session_id': '123456'}`\n",
      "\n",
      "\n",
      "\u001b[0m\u001b[36;1m\u001b[1;3mThe provided context does not give information about any students that Abhinav Ramesh Kashyap has offered mentorship to in the past few years.\u001b[0m\u001b[32;1m\u001b[1;3m\n",
      "Invoking: `cv-answer-tool` with `{'query': 'Which students has abhinav offered mentorship to in the past few years', 'session_id': '123456'}`\n",
      "\n",
      "\n",
      "\u001b[0m\u001b[33;1m\u001b[1;3mAbhinav Ramesh Kashyap has offered mentorship to Anand Subramanian on his Masters Thesis & Internship in 2023-2024, Benedict on his Masters Thesis in 2021-2022, Li Xinze on his Undergrad Final Year Project in 2019-2020, and both Calvin Tantio and Shi Tian on their Undergrad Final Year Projects in 2018-2019.\u001b[0m\u001b[32;1m\u001b[1;3mAbhinav Ramesh Kashyap has offered mentorship to the following students:\n",
      "\n",
      "1. Anand Subramanian on his Masters Thesis & Internship in 2023-2024\n",
      "2. Benedict on his Masters Thesis in 2021-2022\n",
      "3. Li Xinze on his Undergrad Final Year Project in 2019-2020\n",
      "4. Calvin Tantio and Shi Tian on their Undergrad Final Year Projects in 2018-2019.\u001b[0m\n",
      "\n",
      "\u001b[1m> Finished chain.\u001b[0m\n"
     ]
    }
   ],
   "source": [
    "response = agent.run(\n",
    "    \"Which students has abhinav offered mentorship to in the past few years\"\n",
    ")"
   ]
  },
  {
   "cell_type": "code",
   "execution_count": 28,
   "metadata": {},
   "outputs": [],
   "source": [
    "# This works much better than the create-react agent\n",
    "# This just works on prompts and gpt4 has good capabilities to do the function calling"
   ]
  },
  {
   "cell_type": "code",
   "execution_count": 9,
   "metadata": {},
   "outputs": [],
   "source": [
    "# lets try creating the tool calling agent instead and see how it works\n",
    "from langchain_core.prompts import ChatPromptTemplate\n",
    "from langchain.agents import AgentExecutor, create_tool_calling_agent\n",
    "\n",
    "prompt = ChatPromptTemplate.from_messages(\n",
    "    [\n",
    "        (\n",
    "            \"system\",\n",
    "            \"\"\"You will answer questions from the user about a candidate. \n",
    "            Your job is to chose the either the site-answer-tool or cv-answer-tool to answer \n",
    "            the question from. You may chose either of the tool first. But if the answer is not present in one use the other and try\"\"\",\n",
    "        ),\n",
    "        (\"placeholder\", \"{chat_history}\"),\n",
    "        (\"human\", \"{input}\"),\n",
    "        (\"placeholder\", \"{agent_scratchpad}\"),\n",
    "    ]\n",
    ")"
   ]
  },
  {
   "cell_type": "code",
   "execution_count": 10,
   "metadata": {},
   "outputs": [],
   "source": [
    "agent = create_tool_calling_agent(llm, tools, prompt)"
   ]
  },
  {
   "cell_type": "code",
   "execution_count": 11,
   "metadata": {},
   "outputs": [],
   "source": [
    "agent_executor = AgentExecutor(agent=agent, tools=tools, verbose=True)"
   ]
  },
  {
   "cell_type": "code",
   "execution_count": 12,
   "metadata": {},
   "outputs": [
    {
     "name": "stdout",
     "output_type": "stream",
     "text": [
      "\n",
      "\n",
      "\u001b[1m> Entering new AgentExecutor chain...\u001b[0m\n",
      "\u001b[32;1m\u001b[1;3m\n",
      "Invoking: `site-answer-tool` with `{'query': 'Which students has abhinav offered mentorship to in the past few years', 'session_id': '123456'}`\n",
      "\n",
      "\n",
      "\u001b[0m\u001b[36;1m\u001b[1;3m<generator object RunnableBindingBase.stream at 0x319c9ccf0>\u001b[0m\u001b[32;1m\u001b[1;3m\n",
      "Invoking: `cv-answer-tool` with `{'query': 'Which students has abhinav offered mentorship to in the past few years', 'session_id': '123456'}`\n",
      "\n",
      "\n",
      "\u001b[0m\u001b[33;1m\u001b[1;3m<generator object RunnableBindingBase.stream at 0x319c9cba0>\u001b[0m\u001b[32;1m\u001b[1;3mI'm sorry, but I couldn't find the information about the students Abhinav has mentored in the past few years.\u001b[0m\n",
      "\n",
      "\u001b[1m> Finished chain.\u001b[0m\n"
     ]
    }
   ],
   "source": [
    "ans = agent_executor.invoke(\n",
    "    {\"input\": \"Which students has abhinav offered mentorship to in the past few years\"}\n",
    ")"
   ]
  },
  {
   "cell_type": "code",
   "execution_count": 45,
   "metadata": {},
   "outputs": [
    {
     "data": {
      "text/plain": [
       "'Abhinav Ramesh Kashyap has offered mentorship to several students in the past few years. These students include:\\n\\n- Anand Subramanian for his Masters Thesis & Internship in 2023-2024\\n- Benedict for his Masters Thesis in 2021-2022\\n- Li Xinze for her Undergrad Final Year Project in 2019-2020\\n- Calvin Tantio and Shi Tian for their Undergrad Final Year Projects in 2018-2019.'"
      ]
     },
     "execution_count": 45,
     "metadata": {},
     "output_type": "execute_result"
    }
   ],
   "source": [
    "ans[\"output\"]"
   ]
  },
  {
   "cell_type": "code",
   "execution_count": 46,
   "metadata": {},
   "outputs": [
    {
     "name": "stdout",
     "output_type": "stream",
     "text": [
      "\n",
      "\n",
      "\u001b[1m> Entering new AgentExecutor chain...\u001b[0m\n",
      "{'actions': [ToolAgentAction(tool='site-answer-tool', tool_input={'query': 'Which blog posts has Abhianv written?', 'session_id': '123456'}, log=\"\\nInvoking: `site-answer-tool` with `{'query': 'Which blog posts has Abhianv written?', 'session_id': '123456'}`\\n\\n\\n\", message_log=[AIMessageChunk(content='', additional_kwargs={'tool_calls': [{'index': 0, 'id': 'call_vHG3BaQgQd5FqMhWnBaQCTxE', 'function': {'arguments': '{\\n\"query\": \"Which blog posts has Abhianv written?\",\\n\"session_id\": \"123456\"\\n}', 'name': 'site-answer-tool'}, 'type': 'function'}]}, response_metadata={'finish_reason': 'tool_calls'}, id='run-4bc3550b-1d99-4795-a865-f05edb06b26a', tool_calls=[{'name': 'site-answer-tool', 'args': {'query': 'Which blog posts has Abhianv written?', 'session_id': '123456'}, 'id': 'call_vHG3BaQgQd5FqMhWnBaQCTxE'}], tool_call_chunks=[{'name': 'site-answer-tool', 'args': '{\\n\"query\": \"Which blog posts has Abhianv written?\",\\n\"session_id\": \"123456\"\\n}', 'id': 'call_vHG3BaQgQd5FqMhWnBaQCTxE', 'index': 0}])], tool_call_id='call_vHG3BaQgQd5FqMhWnBaQCTxE')], 'messages': [AIMessageChunk(content='', additional_kwargs={'tool_calls': [{'index': 0, 'id': 'call_vHG3BaQgQd5FqMhWnBaQCTxE', 'function': {'arguments': '{\\n\"query\": \"Which blog posts has Abhianv written?\",\\n\"session_id\": \"123456\"\\n}', 'name': 'site-answer-tool'}, 'type': 'function'}]}, response_metadata={'finish_reason': 'tool_calls'}, id='run-4bc3550b-1d99-4795-a865-f05edb06b26a', tool_calls=[{'name': 'site-answer-tool', 'args': {'query': 'Which blog posts has Abhianv written?', 'session_id': '123456'}, 'id': 'call_vHG3BaQgQd5FqMhWnBaQCTxE'}], tool_call_chunks=[{'name': 'site-answer-tool', 'args': '{\\n\"query\": \"Which blog posts has Abhianv written?\",\\n\"session_id\": \"123456\"\\n}', 'id': 'call_vHG3BaQgQd5FqMhWnBaQCTxE', 'index': 0}])]}\n",
      "====================\n",
      "\u001b[32;1m\u001b[1;3m\n",
      "Invoking: `site-answer-tool` with `{'query': 'Which blog posts has Abhianv written?', 'session_id': '123456'}`\n",
      "\n",
      "\n",
      "\u001b[0m\u001b[36;1m\u001b[1;3mAbhinav Ramesh Kashyap has written several blog posts. Some of the titles mentioned in the context are: \"GLaM: Efficient Scaling of Language Models with Mixture of Experts\", \"Publicly Shareable Clinical Large Language model Built on Synthetic Clinical Notes\", \"MAUVE - Measuring the Gap Between Neural text and Human Text using Divergence Frontiers\", and \"Understanding Dataset Difficulty\".\u001b[0m{'steps': [AgentStep(action=ToolAgentAction(tool='site-answer-tool', tool_input={'query': 'Which blog posts has Abhianv written?', 'session_id': '123456'}, log=\"\\nInvoking: `site-answer-tool` with `{'query': 'Which blog posts has Abhianv written?', 'session_id': '123456'}`\\n\\n\\n\", message_log=[AIMessageChunk(content='', additional_kwargs={'tool_calls': [{'index': 0, 'id': 'call_vHG3BaQgQd5FqMhWnBaQCTxE', 'function': {'arguments': '{\\n\"query\": \"Which blog posts has Abhianv written?\",\\n\"session_id\": \"123456\"\\n}', 'name': 'site-answer-tool'}, 'type': 'function'}]}, response_metadata={'finish_reason': 'tool_calls'}, id='run-4bc3550b-1d99-4795-a865-f05edb06b26a', tool_calls=[{'name': 'site-answer-tool', 'args': {'query': 'Which blog posts has Abhianv written?', 'session_id': '123456'}, 'id': 'call_vHG3BaQgQd5FqMhWnBaQCTxE'}], tool_call_chunks=[{'name': 'site-answer-tool', 'args': '{\\n\"query\": \"Which blog posts has Abhianv written?\",\\n\"session_id\": \"123456\"\\n}', 'id': 'call_vHG3BaQgQd5FqMhWnBaQCTxE', 'index': 0}])], tool_call_id='call_vHG3BaQgQd5FqMhWnBaQCTxE'), observation='Abhinav Ramesh Kashyap has written several blog posts. Some of the titles mentioned in the context are: \"GLaM: Efficient Scaling of Language Models with Mixture of Experts\", \"Publicly Shareable Clinical Large Language model Built on Synthetic Clinical Notes\", \"MAUVE - Measuring the Gap Between Neural text and Human Text using Divergence Frontiers\", and \"Understanding Dataset Difficulty\".')], 'messages': [FunctionMessage(content='Abhinav Ramesh Kashyap has written several blog posts. Some of the titles mentioned in the context are: \"GLaM: Efficient Scaling of Language Models with Mixture of Experts\", \"Publicly Shareable Clinical Large Language model Built on Synthetic Clinical Notes\", \"MAUVE - Measuring the Gap Between Neural text and Human Text using Divergence Frontiers\", and \"Understanding Dataset Difficulty\".', name='site-answer-tool')]}\n",
      "====================\n",
      "\u001b[32;1m\u001b[1;3mAbhinav Ramesh Kashyap has written several blog posts. Some of the titles are: \n",
      "\n",
      "1. \"GLaM: Efficient Scaling of Language Models with Mixture of Experts\"\n",
      "2. \"Publicly Shareable Clinical Large Language model Built on Synthetic Clinical Notes\"\n",
      "3. \"MAUVE - Measuring the Gap Between Neural text and Human Text using Divergence Frontiers\"\n",
      "4. \"Understanding Dataset Difficulty\"\u001b[0m\n",
      "\n",
      "\u001b[1m> Finished chain.\u001b[0m\n",
      "{'output': 'Abhinav Ramesh Kashyap has written several blog posts. Some of the titles are: \\n\\n1. \"GLaM: Efficient Scaling of Language Models with Mixture of Experts\"\\n2. \"Publicly Shareable Clinical Large Language model Built on Synthetic Clinical Notes\"\\n3. \"MAUVE - Measuring the Gap Between Neural text and Human Text using Divergence Frontiers\"\\n4. \"Understanding Dataset Difficulty\"', 'messages': [AIMessage(content='Abhinav Ramesh Kashyap has written several blog posts. Some of the titles are: \\n\\n1. \"GLaM: Efficient Scaling of Language Models with Mixture of Experts\"\\n2. \"Publicly Shareable Clinical Large Language model Built on Synthetic Clinical Notes\"\\n3. \"MAUVE - Measuring the Gap Between Neural text and Human Text using Divergence Frontiers\"\\n4. \"Understanding Dataset Difficulty\"')]}\n",
      "====================\n"
     ]
    }
   ],
   "source": [
    "for chunk in agent_executor.stream({\"input\": \"Which blog posts has Abhianv written?\"}):\n",
    "    print(chunk)\n",
    "    print(\"====================\")"
   ]
  },
  {
   "cell_type": "code",
   "execution_count": 47,
   "metadata": {},
   "outputs": [
    {
     "name": "stdout",
     "output_type": "stream",
     "text": [
      "\n",
      "\n",
      "\u001b[1m> Entering new AgentExecutor chain...\u001b[0m\n",
      "\u001b[32;1m\u001b[1;3mHello Abhinav! How can I assist you today?\u001b[0m\n",
      "\n",
      "\u001b[1m> Finished chain.\u001b[0m\n"
     ]
    },
    {
     "data": {
      "text/plain": [
       "{'input': 'Hey I am Abhinav',\n",
       " 'output': 'Hello Abhinav! How can I assist you today?'}"
      ]
     },
     "execution_count": 47,
     "metadata": {},
     "output_type": "execute_result"
    }
   ],
   "source": [
    "agent_executor.invoke({\"input\": \"Hey I am Abhinav\"})"
   ]
  },
  {
   "cell_type": "code",
   "execution_count": 48,
   "metadata": {},
   "outputs": [
    {
     "name": "stdout",
     "output_type": "stream",
     "text": [
      "\n",
      "\n",
      "\u001b[1m> Entering new AgentExecutor chain...\u001b[0m\n",
      "\u001b[32;1m\u001b[1;3m\n",
      "Invoking: `site-answer-tool` with `{'query': 'What is my name', 'session_id': '12345'}`\n",
      "\n",
      "\n",
      "\u001b[0m\u001b[36;1m\u001b[1;3mYour name is Abhinav Ramesh Kashyap.\u001b[0m\u001b[32;1m\u001b[1;3mYour name is Abhinav Ramesh Kashyap.\u001b[0m\n",
      "\n",
      "\u001b[1m> Finished chain.\u001b[0m\n"
     ]
    },
    {
     "data": {
      "text/plain": [
       "{'input': 'What is my name', 'output': 'Your name is Abhinav Ramesh Kashyap.'}"
      ]
     },
     "execution_count": 48,
     "metadata": {},
     "output_type": "execute_result"
    }
   ],
   "source": [
    "agent_executor.invoke({\"input\": \"What is my name\"})"
   ]
  },
  {
   "cell_type": "code",
   "execution_count": 49,
   "metadata": {},
   "outputs": [
    {
     "name": "stdout",
     "output_type": "stream",
     "text": [
      "\n",
      "\n",
      "\u001b[1m> Entering new AgentExecutor chain...\u001b[0m\n",
      "\u001b[32;1m\u001b[1;3m\n",
      "Invoking: `site-answer-tool` with `{'query': 'What did Abhinav do in March 2024', 'session_id': '123456'}`\n",
      "\n",
      "\n",
      "\u001b[0m\u001b[36;1m\u001b[1;3mIn March 2024, Abhinav Ramesh Kashyap presented a survey paper on sentence representations at EACL (the European Chapter of the Association for Computational Linguistics).\u001b[0m\u001b[32;1m\u001b[1;3mIn March 2024, Abhinav Ramesh Kashyap presented a survey paper on sentence representations at EACL (the European Chapter of the Association for Computational Linguistics).\u001b[0m\n",
      "\n",
      "\u001b[1m> Finished chain.\u001b[0m\n"
     ]
    },
    {
     "data": {
      "text/plain": [
       "{'input': 'What did Abhinav do in March 2024',\n",
       " 'output': 'In March 2024, Abhinav Ramesh Kashyap presented a survey paper on sentence representations at EACL (the European Chapter of the Association for Computational Linguistics).'}"
      ]
     },
     "execution_count": 49,
     "metadata": {},
     "output_type": "execute_result"
    }
   ],
   "source": [
    "agent_executor.invoke({\"input\": \"What did Abhinav do in March 2024\"})"
   ]
  },
  {
   "cell_type": "code",
   "execution_count": 50,
   "metadata": {},
   "outputs": [
    {
     "name": "stdout",
     "output_type": "stream",
     "text": [
      "\n",
      "\n",
      "\u001b[1m> Entering new AgentExecutor chain...\u001b[0m\n",
      "\u001b[32;1m\u001b[1;3m\n",
      "Invoking: `site-answer-tool` with `{'query': 'What did Abhinav do in May 2024?', 'session_id': '123456'}`\n",
      "\n",
      "\n",
      "\u001b[0m\u001b[36;1m\u001b[1;3mIn May 2024, Abhinav Ramesh Kashyap's paper titled \"M-QALM\", a benchmark to test the abilities of clinical large language models, was accepted to the ACL’24 Findings.\u001b[0m\u001b[32;1m\u001b[1;3mIn May 2024, Abhinav Ramesh Kashyap's paper titled \"M-QALM\", a benchmark to test the abilities of clinical large language models, was accepted to the ACL’24 Findings.\u001b[0m\n",
      "\n",
      "\u001b[1m> Finished chain.\u001b[0m\n"
     ]
    },
    {
     "data": {
      "text/plain": [
       "{'input': 'What did Abhinav do in May 2024?',\n",
       " 'output': 'In May 2024, Abhinav Ramesh Kashyap\\'s paper titled \"M-QALM\", a benchmark to test the abilities of clinical large language models, was accepted to the ACL’24 Findings.'}"
      ]
     },
     "execution_count": 50,
     "metadata": {},
     "output_type": "execute_result"
    }
   ],
   "source": [
    "agent_executor.invoke({\"input\": \"What did Abhinav do in May 2024?\"})"
   ]
  },
  {
   "cell_type": "code",
   "execution_count": 52,
   "metadata": {},
   "outputs": [
    {
     "name": "stdout",
     "output_type": "stream",
     "text": [
      "\n",
      "\n",
      "\u001b[1m> Entering new AgentExecutor chain...\u001b[0m\n",
      "\u001b[32;1m\u001b[1;3m\n",
      "Invoking: `site-answer-tool` with `{'query': 'Which students has abhinav offered mentorship to in the past few years', 'session_id': 'abc'}`\n",
      "\n",
      "\n",
      "\u001b[0m\u001b[36;1m\u001b[1;3mThe provided context does not give any information about Abhinav Ramesh Kashyap offering mentorship to any students in the past few years.\u001b[0m\u001b[32;1m\u001b[1;3m\n",
      "Invoking: `cv-answer-tool` with `{'query': 'Which students has abhinav offered mentorship to in the past few years', 'session_id': 'abc'}`\n",
      "\n",
      "\n",
      "\u001b[0m\u001b[33;1m\u001b[1;3mAbhinav Ramesh Kashyap has offered mentorship to the following students in the past few years: Anand Subramanian for his Masters Thesis & Internship in 2023-2024, Benedict for his Masters Thesis in 2021-2022, Li Xinze for his Undergrad Final Year Project in 2019-2020, Calvin Tantio for his Undergrad Final Year Project in 2018-2019, and Shi Tian for his Undergrad Final Year Project in 2018-2019.\u001b[0m\u001b[32;1m\u001b[1;3mAbhinav Ramesh Kashyap has offered mentorship to the following students in the past few years: \n",
      "\n",
      "1. Anand Subramanian for his Masters Thesis & Internship in 2023-2024\n",
      "2. Benedict for his Masters Thesis in 2021-2022\n",
      "3. Li Xinze for his Undergrad Final Year Project in 2019-2020\n",
      "4. Calvin Tantio for his Undergrad Final Year Project in 2018-2019\n",
      "5. Shi Tian for his Undergrad Final Year Project in 2018-2019.\u001b[0m\n",
      "\n",
      "\u001b[1m> Finished chain.\u001b[0m\n"
     ]
    },
    {
     "data": {
      "text/plain": [
       "{'input': 'Which students has abhinav offered mentorship to in the past few years. Use session_id=abc for agent calls',\n",
       " 'output': 'Abhinav Ramesh Kashyap has offered mentorship to the following students in the past few years: \\n\\n1. Anand Subramanian for his Masters Thesis & Internship in 2023-2024\\n2. Benedict for his Masters Thesis in 2021-2022\\n3. Li Xinze for his Undergrad Final Year Project in 2019-2020\\n4. Calvin Tantio for his Undergrad Final Year Project in 2018-2019\\n5. Shi Tian for his Undergrad Final Year Project in 2018-2019.'}"
      ]
     },
     "execution_count": 52,
     "metadata": {},
     "output_type": "execute_result"
    }
   ],
   "source": [
    "agent_executor.invoke(\n",
    "    {\n",
    "        \"input\": \"Which students has abhinav offered mentorship to in the past few years. Use session_id=abc for agent calls\"\n",
    "    }\n",
    ")"
   ]
  },
  {
   "cell_type": "code",
   "execution_count": 20,
   "metadata": {},
   "outputs": [
    {
     "name": "stdout",
     "output_type": "stream",
     "text": [
      "\n",
      "\n",
      "\u001b[1m> Entering new AgentExecutor chain...\u001b[0m\n",
      "\u001b[32;1m\u001b[1;3m\n",
      "Invoking: `site-answer-tool` with `{'query': 'Which students did Abhinav offere mentorship in the past few years?', 'session_id': 'abc'}`\n",
      "\n",
      "\n",
      "\u001b[0m\u001b[36;1m\u001b[1;3m{'input': 'Which students did Abhinav offere mentorship in the past few years?', 'chat_history': [HumanMessage(content='Which students did Abhinav offere mentorship in the past few years?'), AIMessage(content='The provided context does not include information on any students that Abhinav Ramesh Kashyap may have mentored in the past few years.'), HumanMessage(content='Which students did Abhinav offere mentorship in the past few years?'), AIMessage(content='The provided context does not include information on any students that Abhinav Ramesh Kashyap may have mentored in the past few years.'), HumanMessage(content='Which students did Abhinav offere mentorship in the past few years?'), AIMessage(content='The provided context does not include information on any students that Abhinav Ramesh Kashyap may have mentored in the past few years.'), HumanMessage(content='Which students did Abhinav offere mentorship in the past few years?'), AIMessage(content='The provided context does not include information on any students that Abhinav Ramesh Kashyap may have mentored in the past few years.')], 'context': [Document(page_content='# Abhinav Ramesh Kashyap\\n\\n![abhinav_pic.jpeg](Abhinav%20Ramesh%20Kashyap%202a5b5c4c70f240359dc297eaa025b430/abhinav_pic.jpeg)\\n\\n[https://notaku.so/iframes/clickable-image/eyJpbWFnZVVybCI6Imh0dHBzOi8vZW5jcnlwdGVkLXRibjAuZ3N0YXRpYy5jb20vaW1hZ2VzP3E9dGJuOkFOZDlHY1FPWnRzS0VJMTFOR3FMVk1ObFZ2WE5fUTZUeVhNUXVPZ2Q1U0IwV0Y2TzdRJnMiLCJsaW5rSHJlZiI6Imh0dHBzOi8vc2Nob2xhci5nb29nbGUuY29tL2NpdGF0aW9ucz91c2VyPXVjM3UwWkFBQUFBSiZobD1lbiJ9](https://notaku.so/iframes/clickable-image/eyJpbWFnZVVybCI6Imh0dHBzOi8vZW5jcnlwdGVkLXRibjAuZ3N0YXRpYy5jb20vaW1hZ2VzP3E9dGJuOkFOZDlHY1FPWnRzS0VJMTFOR3FMVk1ObFZ2WE5fUTZUeVhNUXVPZ2Q1U0IwV0Y2TzdRJnMiLCJsaW5rSHJlZiI6Imh0dHBzOi8vc2Nob2xhci5nb29nbGUuY29tL2NpdGF0aW9ucz91c2VyPXVjM3UwWkFBQUFBSiZobD1lbiJ9)', metadata={'filename': '../abhinav_notion/Abhinav Ramesh Kashyap 2a5b5c4c70f240359dc297eaa025b430.md', 'start_index': 0}), Document(page_content='Hey I’m Abhinav. I am a AI Scientist at ASUS-AICS. I work on Natural Language Processing and I am  interested in processing clinical notes. \\n\\n“Let me try my hand at machine learning” started my exploration on the subject during my Masters. I stayed in college for my PhD.  I was advised by [Prof Min-Yen Kan](https://www.comp.nus.edu.sg/~kanmy/)  and we worked on understanding text originating from different sources and not just mainstream media.  I now focus on help machines understand clinical notes and other text written by clinicians and doctors as a scientist in Singapore. \\n\\nI started as a web developer after my graduation in Bangalore. Developing websites and web in general still excites me. Apart from training machines to learn about human languages, I enjoy playing my guitar and singing. I also  [sketch](https://www.instagram.com/art.abhi.asa/) in my spare time.', metadata={'filename': '../abhinav_notion/Abhinav Ramesh Kashyap 2a5b5c4c70f240359dc297eaa025b430.md', 'start_index': 0}), Document(page_content='[https://notaku.so/iframes/clickable-image/eyJpbWFnZVVybCI6Imh0dHBzOi8vZW5jcnlwdGVkLXRibjAuZ3N0YXRpYy5jb20vaW1hZ2VzP3E9dGJuOkFOZDlHY1RMV0FlbWMzMFZRZkluMEFuU3AybDE1dUR2WXptYUZfdU1YZyZ1c3FwPUNBVSIsImxpbmtIcmVmIjoiaHR0cHM6Ly90d2l0dGVyLmNvbS9hYmthc2h5YXA5MiJ9](https://notaku.so/iframes/clickable-image/eyJpbWFnZVVybCI6Imh0dHBzOi8vZW5jcnlwdGVkLXRibjAuZ3N0YXRpYy5jb20vaW1hZ2VzP3E9dGJuOkFOZDlHY1RMV0FlbWMzMFZRZkluMEFuU3AybDE1dUR2WXptYUZfdU1YZyZ1c3FwPUNBVSIsImxpbmtIcmVmIjoiaHR0cHM6Ly90d2l0dGVyLmNvbS9hYmthc2h5YXA5MiJ9)\\n\\nHey I’m Abhinav. I am a AI Scientist at ASUS-AICS. I work on Natural Language Processing and I am  interested in processing clinical notes.', metadata={'filename': '../abhinav_notion/Abhinav Ramesh Kashyap 2a5b5c4c70f240359dc297eaa025b430.md', 'start_index': 0}), Document(page_content='<aside>\\n🧑\\u200d🔬 **PAPER NOTES**\\nI write notes about the papers I read and post it here.\\n\\n</aside>\\n\\n[GLaM: Efficient Scaling of Language Models with Mixture of Experts ](Abhinav%20Ramesh%20Kashyap%202a5b5c4c70f240359dc297eaa025b430/GLaM%20Efficient%20Scaling%20of%20Language%20Models%20with%20Mix%20daa1c17d134249129c43a311d3ff31c5.md)\\n\\n[Publicly Shareable Clinical Large Language model Built on Synthetic Clinical Notes](Abhinav%20Ramesh%20Kashyap%202a5b5c4c70f240359dc297eaa025b430/Publicly%20Shareable%20Clinical%20Large%20Language%20model%20B%20f11a9464b4f44362a1b28ef44c9f32ea.md)\\n\\n[MAUVE - Measuring the Gap Between Neural text and Human Text using Divergence Frontiers](Abhinav%20Ramesh%20Kashyap%202a5b5c4c70f240359dc297eaa025b430/MAUVE%20-%20Measuring%20the%20Gap%20Between%20Neural%20text%20and%20%208e061734893e41fcb7cb8e1bc42b4c0b.md)', metadata={'filename': '../abhinav_notion/Abhinav Ramesh Kashyap 2a5b5c4c70f240359dc297eaa025b430.md', 'start_index': 0}), Document(page_content='[Understanding Dataset Difficulty](Abhinav%20Ramesh%20Kashyap%202a5b5c4c70f240359dc297eaa025b430/Understanding%20Dataset%20Difficulty%20ad876cd2fd84411db2175ce749005524.md)\\n\\n<aside>\\n🏙️ **OTHER WRITINGS** \\nOther writings. General Musings\\n\\n</aside>\\n\\n---\\n\\nThanks to [Reza Arkan](https://rezaarkan.com/) for inspiring me to create my website using Notion. I made this website using Notion And [Fruition](https://www.notion.so/Fruition-Free-Open-Source-Toolkit-for-Building-Websites-with-Notion-771ef38657244c27b9389734a9cbff44?pvs=21). Give it a try.', metadata={'filename': '../abhinav_notion/Abhinav Ramesh Kashyap 2a5b5c4c70f240359dc297eaa025b430.md', 'start_index': 0}), Document(page_content='<aside>\\n🤔 This paper only deals with a family of models that are suitable for classification only. How can we do siimlar kind of analysis for generative models still needs to be explored. For example, how hard is to for the model to translate this instance or to sumamrize this article that is more reelvant in the current times of large language models is still not known\\n\\n</aside>\\n\\nThe paper and the insights regarding the next frontier of innovation in dataset analysis and augmentation are intriguing. Analyzing and enhancing existing datasets are critical steps in improving the performance and robustness of large language models. This is especially important given the central role that these models play in various natural language processing tasks.\\n\\nIf you would like to discuss the paper or exchange thoughts further, feel free to reach out via email at [**abkashyap92@protonmail.com**](mailto:abkashyap92@protonmail.com).', metadata={'filename': '../abhinav_notion/Abhinav Ramesh Kashyap 2a5b5c4c70f240359dc297eaa025b430/Understanding Dataset Difficulty ad876cd2fd84411db2175ce749005524.md', 'start_index': 0})], 'answer': 'The provided context does not include information on any students that Abhinav Ramesh Kashyap may have mentored in the past few years.'}\u001b[0m\u001b[32;1m\u001b[1;3m\n",
      "Invoking: `cv-answer-tool` with `{'query': 'Which students did Abhinav offere mentorship in the past few years?', 'session_id': 'abc'}`\n",
      "\n",
      "\n",
      "\u001b[0m\u001b[33;1m\u001b[1;3m{'input': 'Which students did Abhinav offere mentorship in the past few years?', 'chat_history': [HumanMessage(content='Which students did Abhinav offere mentorship in the past few years?'), AIMessage(content='Abhinav Ramesh Kashyap offered mentorship to several students in the past years, including Anand Subramanian for his Masters Thesis & Internship in 2023-2024, Benedict for his Masters Thesis in 2021-2022, Li Xinze for his Undergrad Final Year Project in 2019-2020, Calvin Tantio for his Undergrad Final Year Project in 2018-2019, and Shi Tian for his Undergrad Final Year Project in 2018-2019.'), HumanMessage(content='Which students did Abhinav offere mentorship in the past few years?'), AIMessage(content='Abhinav Ramesh Kashyap offered mentorship to several students in the past years, including Anand Subramanian for his Masters Thesis & Internship in 2023-2024, Benedict for his Masters Thesis in 2021-2022, Li Xinze for his Undergrad Final Year Project in 2019-2020, Calvin Tantio for his Undergrad Final Year Project in 2018-2019, and Shi Tian for his Undergrad Final Year Project in 2018-2019.'), HumanMessage(content='Which students did Abhinav offere mentorship in the past few years?'), AIMessage(content='Abhinav Ramesh Kashyap offered mentorship to several students in the past few years. These students include Anand Subramanian (Masters Thesis & Internship, 2023-2024), Benedict (Masters Thesis, 2021-2022), Li Xinze (Undergrad Final Year Project, 2019-2020), Calvin Tantio (Undergrad Final Year Project, 2018-2019), and Shi Tian (Undergrad Final Year Project, 2018-2019).'), HumanMessage(content='Which students did Abhinav offere mentorship in the past few years?'), AIMessage(content='Abhinav Ramesh Kashyap offered mentorship to several students in the past few years. These students include Anand Subramanian (Masters Thesis & Internship, 2023-2024), Benedict (Masters Thesis, 2021-2022), Li Xinze (Undergrad Final Year Project, 2019-2020), Calvin Tantio (Undergrad Final Year Project, 2018-2019), and Shi Tian (Undergrad Final Year Project, 2018-2019).')], 'context': [Document(page_content='Abhinav Ramesh Kashyap (Ph.D.)\\n\\nAI SCIENTIST, ASUS-AICS, SINGAPORE (WILLING TO RELOCATE TO INDIA) ABHINAVKASHYAP92@GMAIL.COM PHONE: +65-86577463\\n\\nIntroduction\\n\\nAs an AI Scientist at ASUS-AICS, I boost clinician productivity with innovative research. My expertise includes parameter- efficient fine-tuning, domain adaptation, and speech processing. Working closely with healthcare professionals, I tackle real-world challenges, leading to impactful developments and publications at prestigious conferences.\\n\\nExperience ASUS-AICS AI SCIENTIST\\n\\nSingapore\\n\\nOct 2022 - Present\\n\\nConducted research in areas including Clinical Natural Language Processing (NLP) and Speech Processing, addressing critical\\n\\nchallenges and creating new methodologies.\\n\\nEngaged in collaboration with Product Managers to precisely define product requirements, ensuring alignment with market\\n\\nneeds and technological capabilities.', metadata={'source': '/Users/abhinavkashyap/abhi/projects/knowme/CV.pdf', 'start_index': 0}), Document(page_content='Teaching\\n\\nFall 2022 Fall 2021 Spring 2020 Spring 2019\\n\\nCS-3244 - Machine Learning, Instructor: Min-Yen Kan, Brian Lim CS-3244 - Machine Learning, Instructor: Min-Yen Kan CS-3245 - Information Retrieval, Instructor: Zhao Jin CS-2010 - Data Structure and Algotihms - II, Instructor: Roger Zimmermann\\n\\nMentorship\\n\\n2023-2024 2021-2022 2019-2020 2018-2019 2018-2019\\n\\nAnand Subramanian, Masters Thesis & Internship Benedict, Masters Thesis Li Xinze, Undergrad Final Year Project Calvin Tantio, Undergrad Final Year Project Shi Tian, Undergrad Final Year Project\\n\\nProfessional Service Reviewer Invited Talks\\n\\nNeurips, ICML, ICLR, ACL ARR, Ontario Tech U, SUTD Singapore,\\n\\nHonors & Awards 2024 2022 2018 2016 2016\\n\\nAwarded, Productivity Ninja Awarded, Outstanding Reviewer Awarded, NUS Research Scholarship 1ST place, NUS SoC Term Project Showcase Runners Up, NUS Business Analytics Center Award\\n\\nEACL 2024\\n\\nNUS, Singapore NUS, Singapore NUS, Singapore NUS, Singapore', metadata={'source': '/Users/abhinavkashyap/abhi/projects/knowme/CV.pdf', 'start_index': 6313}), Document(page_content='Advisor: Mahdi Namazifar, Devamanyu Hazarika, Yang Liu, Dilek Hakkani-Tur\\n\\nNational University of Singapore RESEARCH ASSISTANT\\n\\nSingapore\\n\\nAug. 2017 - July 2018\\n\\nAnalyzed and identified patterns of worry within social media topics, employing advanced data analytics to monitor and under-\\n\\nstand user sentiment.\\n\\nDesigned and developed interactive dashboards, presenting key insights and analytics to partners, enhancing decision-making\\n\\nand strategic planning\\n\\nAdvisor: Mohan Kankanhalli\\n\\nIntuit Inc. SOFTWARE ENGINEER\\n\\nBangalore, India\\n\\nAug. 2014 - July 2015\\n\\n• • Developed an intelligent module packaging system and devised a mechanism for on-demand low-latency package loading that improved the web-page loading speeds.\\n\\nImproved the checkout experience for an e-commerce website - intuitmarket.com Improved the architecture of the website and introduced new workflows for building and testing the website.\\n\\nEducation National University of Singapore PH.D. IN COMPUTER SCIENCE\\n\\nSingapore', metadata={'source': '/Users/abhinavkashyap/abhi/projects/knowme/CV.pdf', 'start_index': 1575}), Document(page_content='Education National University of Singapore PH.D. IN COMPUTER SCIENCE\\n\\nSingapore\\n\\n2018 - 2022\\n\\nAdvisor: Min-Yen Kan • Thesis Applications of Domain Divergences for Domain Adaptation in NLP\\n\\nNational University of Singapore MASTERS OF COMPUTING\\n\\nAdvisor: Mohan Kankanhalli • Thesis: Aspect-based Multimodal Restaurant Review Summarization\\n\\nPES Institute of Technology BACHELORS OF COMPUTER SCIENCE AND ENGINEERING\\n\\nPublications RESEARCH DIRECTION I: DOMAIN ADAPTATION\\n\\nUDAPTER: Efficient Domain Adaptation using Adapters\\n\\nABHINAV RAMESH KASHYAP, BHAVITVYA MALIK, MIN-YEN KAN, SOUJANYA PORIA • Introduced a novel method for unsupervised domain adaptation by composing multiple adapters.\\n\\nEffectively bridges the gap between source and target domains without extensive retraining.\\n\\nAchieved performance comparable to fully fine-tuned domain adaptation models with significantly\\n\\nreduced computational overhead – optimizing only 10% of the parameters', metadata={'source': '/Users/abhinavkashyap/abhi/projects/knowme/CV.pdf', 'start_index': 2486}), Document(page_content='synthesis for novel speakers, showcasing adaptability and improved speaker generalization.\\n\\nDemonstrated superior performance, surpassing established benchmarks by over 5%, while effi- ciently utilizing only 11% of the total model parameters, emphasizing the method’s effectiveness and efficiency.\\n\\nSingapore\\n\\n2015 - 2017\\n\\nBangalore, India\\n\\nAug. 2010 - 2014\\n\\nEACL 2023\\n\\nACL 2022\\n\\nACL’24\\n\\nIn Progress\\n\\nINTERSPEECH 2023\\n\\nA Comprehensive Survey of Sentence Representations: From the BERT Epoch to the CHATGPT Era and Beyond\\n\\nABHINAV RAMESH KASHYAP, THANH-TUNG NGUYEN, VIKTOR SCHLEGEL, STEFAN WINKLER, SEE-KIONG NG, SOUJANYA PORIA • Recognized a significant gap in the comprehensive literature review of sentence representation tech-\\n\\nniques, highlighting an overlooked area of research.\\n\\nSystematically compiled and organized existing literature on sentence representations, offering in- sightful future research directions with a particular focus on applications within the clinical domain.\\n\\nTeaching', metadata={'source': '/Users/abhinavkashyap/abhi/projects/knowme/CV.pdf', 'start_index': 5323}), Document(page_content='DOC-THE-TALK: End-End Summarization of Clinical Dialogues to Electronic Medical Records\\n\\nABHINAV RAMESH KASHYAP, AMBUJ MEHRISH, BHAVITVYA MALIK, KELVIN LI, KEVIN, SEAN, SOUJANYA PORIA, STEFAN WINKLER • Developed clinically accurate synthetic speech dialogues simulating doctor-patient interactions. • Developed a rubric with clinicians from a hospital in Singapore that assesses realism and applicability\\n\\nin real-world medical scenarios\\n\\nBenchmarked end-to-end summarization models on the generated dataset\\n\\nOTHER RESEARCH DIRECTIONS\\n\\nADAPTERMIX: Exploring the Efficacy of Mixture of Adapters for Low-Resource TTS Adaptation\\n\\nAMBUJ MEHRISH, ABHINAV RAMESH KASHYAP, LI YINGTING, NAVONIL MAJUMDER, SOUJANYA PORIA • Introduced an innovative ”mixture of adapters” approach designed to enhance Text-to-Speech (TTS)\\n\\nsynthesis for novel speakers, showcasing adaptability and improved speaker generalization.', metadata={'source': '/Users/abhinavkashyap/abhi/projects/knowme/CV.pdf', 'start_index': 4511})], 'answer': 'Abhinav Ramesh Kashyap offered mentorship to several students in the past few years. These students include Anand Subramanian for his Masters Thesis & Internship in 2023-2024, Benedict for his Masters Thesis in 2021-2022, Li Xinze for his Undergrad Final Year Project in 2019-2020, Calvin Tantio for his Undergrad Final Year Project in 2018-2019, and Shi Tian for his Undergrad Final Year Project in 2018-2019.'}\u001b[0m\u001b[32;1m\u001b[1;3mAbhinav Ramesh Kashyap offered mentorship to several students in the past few years. These students include:\n",
      "\n",
      "1. Anand Subramanian for his Masters Thesis & Internship in 2023-2024\n",
      "2. Benedict for his Masters Thesis in 2021-2022\n",
      "3. Li Xinze for his Undergrad Final Year Project in 2019-2020\n",
      "4. Calvin Tantio for his Undergrad Final Year Project in 2018-2019\n",
      "5. Shi Tian for his Undergrad Final Year Project in 2018-2019.\u001b[0m\n",
      "\n",
      "\u001b[1m> Finished chain.\u001b[0m\n"
     ]
    }
   ],
   "source": [
    "from knowme.agent import KnowMeAgent\n",
    "\n",
    "agent = KnowMeAgent(verbose=True)\n",
    "answer = agent.chat(\n",
    "    \"Which students did Abhinav offere mentorship in the past few years?\",\n",
    "    session_id=\"abc\",\n",
    ")"
   ]
  },
  {
   "cell_type": "code",
   "execution_count": 23,
   "metadata": {},
   "outputs": [
    {
     "name": "stdout",
     "output_type": "stream",
     "text": [
      "Abhinav Ramesh Kashyap offered mentorship to several students in the past few years. These students include:\n",
      "\n",
      "1. Anand Subramanian for his Masters Thesis & Internship in 2023-2024\n",
      "2. Benedict for his Masters Thesis in 2021-2022\n",
      "3. Li Xinze for his Undergrad Final Year Project in 2019-2020\n",
      "4. Calvin Tantio for his Undergrad Final Year Project in 2018-2019\n",
      "5. Shi Tian for his Undergrad Final Year Project in 2018-2019.\n"
     ]
    },
    {
     "data": {
      "text/plain": [
       "['Abhinav',\n",
       " 'Ramesh',\n",
       " 'Kashyap',\n",
       " 'offered',\n",
       " 'mentorship',\n",
       " 'to',\n",
       " 'several',\n",
       " 'students',\n",
       " 'in',\n",
       " 'the',\n",
       " 'past',\n",
       " 'few',\n",
       " 'years.',\n",
       " 'These',\n",
       " 'students',\n",
       " 'include:\\n\\n1.',\n",
       " 'Anand',\n",
       " 'Subramanian',\n",
       " 'for',\n",
       " 'his',\n",
       " 'Masters',\n",
       " 'Thesis',\n",
       " '&',\n",
       " 'Internship',\n",
       " 'in',\n",
       " '2023-2024\\n2.',\n",
       " 'Benedict',\n",
       " 'for',\n",
       " 'his',\n",
       " 'Masters',\n",
       " 'Thesis',\n",
       " 'in',\n",
       " '2021-2022\\n3.',\n",
       " 'Li',\n",
       " 'Xinze',\n",
       " 'for',\n",
       " 'his',\n",
       " 'Undergrad',\n",
       " 'Final',\n",
       " 'Year',\n",
       " 'Project',\n",
       " 'in',\n",
       " '2019-2020\\n4.',\n",
       " 'Calvin',\n",
       " 'Tantio',\n",
       " 'for',\n",
       " 'his',\n",
       " 'Undergrad',\n",
       " 'Final',\n",
       " 'Year',\n",
       " 'Project',\n",
       " 'in',\n",
       " '2018-2019\\n5.',\n",
       " 'Shi',\n",
       " 'Tian',\n",
       " 'for',\n",
       " 'his',\n",
       " 'Undergrad',\n",
       " 'Final',\n",
       " 'Year',\n",
       " 'Project',\n",
       " 'in',\n",
       " '2018-2019.']"
      ]
     },
     "execution_count": 23,
     "metadata": {},
     "output_type": "execute_result"
    }
   ],
   "source": [
    "print(answer)\n",
    "\n",
    "answer.split(\" \")"
   ]
  },
  {
   "cell_type": "code",
   "execution_count": 17,
   "metadata": {},
   "outputs": [],
   "source": [
    "answer = agent.chat_stream(\n",
    "    \"Which students did Abhinav offere mentorship in the past few years?\",\n",
    "    session_id=\"abc\",\n",
    ")"
   ]
  },
  {
   "cell_type": "code",
   "execution_count": 18,
   "metadata": {},
   "outputs": [
    {
     "name": "stdout",
     "output_type": "stream",
     "text": [
      "\n",
      "\n",
      "\u001b[1m> Entering new AgentExecutor chain...\u001b[0m\n",
      "{'actions': [ToolAgentAction(tool='site-answer-tool', tool_input={'query': 'Which students did Abhinav offere mentorship in the past few years?', 'session_id': 'abc'}, log=\"\\nInvoking: `site-answer-tool` with `{'query': 'Which students did Abhinav offere mentorship in the past few years?', 'session_id': 'abc'}`\\n\\n\\n\", message_log=[AIMessageChunk(content='', additional_kwargs={'tool_calls': [{'index': 0, 'id': 'call_z5iJw06BaAUzBvkX9rjm45WZ', 'function': {'arguments': '{\\n\"query\": \"Which students did Abhinav offere mentorship in the past few years?\",\\n\"session_id\": \"abc\"\\n}', 'name': 'site-answer-tool'}, 'type': 'function'}]}, response_metadata={'finish_reason': 'tool_calls'}, id='run-26ae2946-4b4f-49a5-8b69-734c08305177', tool_calls=[{'name': 'site-answer-tool', 'args': {'query': 'Which students did Abhinav offere mentorship in the past few years?', 'session_id': 'abc'}, 'id': 'call_z5iJw06BaAUzBvkX9rjm45WZ'}], tool_call_chunks=[{'name': 'site-answer-tool', 'args': '{\\n\"query\": \"Which students did Abhinav offere mentorship in the past few years?\",\\n\"session_id\": \"abc\"\\n}', 'id': 'call_z5iJw06BaAUzBvkX9rjm45WZ', 'index': 0}])], tool_call_id='call_z5iJw06BaAUzBvkX9rjm45WZ')], 'messages': [AIMessageChunk(content='', additional_kwargs={'tool_calls': [{'index': 0, 'id': 'call_z5iJw06BaAUzBvkX9rjm45WZ', 'function': {'arguments': '{\\n\"query\": \"Which students did Abhinav offere mentorship in the past few years?\",\\n\"session_id\": \"abc\"\\n}', 'name': 'site-answer-tool'}, 'type': 'function'}]}, response_metadata={'finish_reason': 'tool_calls'}, id='run-26ae2946-4b4f-49a5-8b69-734c08305177', tool_calls=[{'name': 'site-answer-tool', 'args': {'query': 'Which students did Abhinav offere mentorship in the past few years?', 'session_id': 'abc'}, 'id': 'call_z5iJw06BaAUzBvkX9rjm45WZ'}], tool_call_chunks=[{'name': 'site-answer-tool', 'args': '{\\n\"query\": \"Which students did Abhinav offere mentorship in the past few years?\",\\n\"session_id\": \"abc\"\\n}', 'id': 'call_z5iJw06BaAUzBvkX9rjm45WZ', 'index': 0}])]}\n",
      "====\n",
      "\u001b[32;1m\u001b[1;3m\n",
      "Invoking: `site-answer-tool` with `{'query': 'Which students did Abhinav offere mentorship in the past few years?', 'session_id': 'abc'}`\n",
      "\n",
      "\n",
      "\u001b[0m\u001b[36;1m\u001b[1;3m{'input': 'Which students did Abhinav offere mentorship in the past few years?', 'chat_history': [HumanMessage(content='Which students did Abhinav offere mentorship in the past few years?'), AIMessage(content='The provided context does not include information on any students that Abhinav Ramesh Kashyap may have mentored in the past few years.'), HumanMessage(content='Which students did Abhinav offere mentorship in the past few years?'), AIMessage(content='The provided context does not include information on any students that Abhinav Ramesh Kashyap may have mentored in the past few years.'), HumanMessage(content='Which students did Abhinav offere mentorship in the past few years?'), AIMessage(content='The provided context does not include information on any students that Abhinav Ramesh Kashyap may have mentored in the past few years.')], 'context': [Document(page_content='# Abhinav Ramesh Kashyap\\n\\n![abhinav_pic.jpeg](Abhinav%20Ramesh%20Kashyap%202a5b5c4c70f240359dc297eaa025b430/abhinav_pic.jpeg)\\n\\n[https://notaku.so/iframes/clickable-image/eyJpbWFnZVVybCI6Imh0dHBzOi8vZW5jcnlwdGVkLXRibjAuZ3N0YXRpYy5jb20vaW1hZ2VzP3E9dGJuOkFOZDlHY1FPWnRzS0VJMTFOR3FMVk1ObFZ2WE5fUTZUeVhNUXVPZ2Q1U0IwV0Y2TzdRJnMiLCJsaW5rSHJlZiI6Imh0dHBzOi8vc2Nob2xhci5nb29nbGUuY29tL2NpdGF0aW9ucz91c2VyPXVjM3UwWkFBQUFBSiZobD1lbiJ9](https://notaku.so/iframes/clickable-image/eyJpbWFnZVVybCI6Imh0dHBzOi8vZW5jcnlwdGVkLXRibjAuZ3N0YXRpYy5jb20vaW1hZ2VzP3E9dGJuOkFOZDlHY1FPWnRzS0VJMTFOR3FMVk1ObFZ2WE5fUTZUeVhNUXVPZ2Q1U0IwV0Y2TzdRJnMiLCJsaW5rSHJlZiI6Imh0dHBzOi8vc2Nob2xhci5nb29nbGUuY29tL2NpdGF0aW9ucz91c2VyPXVjM3UwWkFBQUFBSiZobD1lbiJ9)', metadata={'filename': '../abhinav_notion/Abhinav Ramesh Kashyap 2a5b5c4c70f240359dc297eaa025b430.md', 'start_index': 0}), Document(page_content='Hey I’m Abhinav. I am a AI Scientist at ASUS-AICS. I work on Natural Language Processing and I am  interested in processing clinical notes. \\n\\n“Let me try my hand at machine learning” started my exploration on the subject during my Masters. I stayed in college for my PhD.  I was advised by [Prof Min-Yen Kan](https://www.comp.nus.edu.sg/~kanmy/)  and we worked on understanding text originating from different sources and not just mainstream media.  I now focus on help machines understand clinical notes and other text written by clinicians and doctors as a scientist in Singapore. \\n\\nI started as a web developer after my graduation in Bangalore. Developing websites and web in general still excites me. Apart from training machines to learn about human languages, I enjoy playing my guitar and singing. I also  [sketch](https://www.instagram.com/art.abhi.asa/) in my spare time.', metadata={'filename': '../abhinav_notion/Abhinav Ramesh Kashyap 2a5b5c4c70f240359dc297eaa025b430.md', 'start_index': 0}), Document(page_content='[https://notaku.so/iframes/clickable-image/eyJpbWFnZVVybCI6Imh0dHBzOi8vZW5jcnlwdGVkLXRibjAuZ3N0YXRpYy5jb20vaW1hZ2VzP3E9dGJuOkFOZDlHY1RMV0FlbWMzMFZRZkluMEFuU3AybDE1dUR2WXptYUZfdU1YZyZ1c3FwPUNBVSIsImxpbmtIcmVmIjoiaHR0cHM6Ly90d2l0dGVyLmNvbS9hYmthc2h5YXA5MiJ9](https://notaku.so/iframes/clickable-image/eyJpbWFnZVVybCI6Imh0dHBzOi8vZW5jcnlwdGVkLXRibjAuZ3N0YXRpYy5jb20vaW1hZ2VzP3E9dGJuOkFOZDlHY1RMV0FlbWMzMFZRZkluMEFuU3AybDE1dUR2WXptYUZfdU1YZyZ1c3FwPUNBVSIsImxpbmtIcmVmIjoiaHR0cHM6Ly90d2l0dGVyLmNvbS9hYmthc2h5YXA5MiJ9)\\n\\nHey I’m Abhinav. I am a AI Scientist at ASUS-AICS. I work on Natural Language Processing and I am  interested in processing clinical notes.', metadata={'filename': '../abhinav_notion/Abhinav Ramesh Kashyap 2a5b5c4c70f240359dc297eaa025b430.md', 'start_index': 0}), Document(page_content='<aside>\\n🧑\\u200d🔬 **PAPER NOTES**\\nI write notes about the papers I read and post it here.\\n\\n</aside>\\n\\n[GLaM: Efficient Scaling of Language Models with Mixture of Experts ](Abhinav%20Ramesh%20Kashyap%202a5b5c4c70f240359dc297eaa025b430/GLaM%20Efficient%20Scaling%20of%20Language%20Models%20with%20Mix%20daa1c17d134249129c43a311d3ff31c5.md)\\n\\n[Publicly Shareable Clinical Large Language model Built on Synthetic Clinical Notes](Abhinav%20Ramesh%20Kashyap%202a5b5c4c70f240359dc297eaa025b430/Publicly%20Shareable%20Clinical%20Large%20Language%20model%20B%20f11a9464b4f44362a1b28ef44c9f32ea.md)\\n\\n[MAUVE - Measuring the Gap Between Neural text and Human Text using Divergence Frontiers](Abhinav%20Ramesh%20Kashyap%202a5b5c4c70f240359dc297eaa025b430/MAUVE%20-%20Measuring%20the%20Gap%20Between%20Neural%20text%20and%20%208e061734893e41fcb7cb8e1bc42b4c0b.md)', metadata={'filename': '../abhinav_notion/Abhinav Ramesh Kashyap 2a5b5c4c70f240359dc297eaa025b430.md', 'start_index': 0}), Document(page_content='[Understanding Dataset Difficulty](Abhinav%20Ramesh%20Kashyap%202a5b5c4c70f240359dc297eaa025b430/Understanding%20Dataset%20Difficulty%20ad876cd2fd84411db2175ce749005524.md)\\n\\n<aside>\\n🏙️ **OTHER WRITINGS** \\nOther writings. General Musings\\n\\n</aside>\\n\\n---\\n\\nThanks to [Reza Arkan](https://rezaarkan.com/) for inspiring me to create my website using Notion. I made this website using Notion And [Fruition](https://www.notion.so/Fruition-Free-Open-Source-Toolkit-for-Building-Websites-with-Notion-771ef38657244c27b9389734a9cbff44?pvs=21). Give it a try.', metadata={'filename': '../abhinav_notion/Abhinav Ramesh Kashyap 2a5b5c4c70f240359dc297eaa025b430.md', 'start_index': 0}), Document(page_content='<aside>\\n🤔 This paper only deals with a family of models that are suitable for classification only. How can we do siimlar kind of analysis for generative models still needs to be explored. For example, how hard is to for the model to translate this instance or to sumamrize this article that is more reelvant in the current times of large language models is still not known\\n\\n</aside>\\n\\nThe paper and the insights regarding the next frontier of innovation in dataset analysis and augmentation are intriguing. Analyzing and enhancing existing datasets are critical steps in improving the performance and robustness of large language models. This is especially important given the central role that these models play in various natural language processing tasks.\\n\\nIf you would like to discuss the paper or exchange thoughts further, feel free to reach out via email at [**abkashyap92@protonmail.com**](mailto:abkashyap92@protonmail.com).', metadata={'filename': '../abhinav_notion/Abhinav Ramesh Kashyap 2a5b5c4c70f240359dc297eaa025b430/Understanding Dataset Difficulty ad876cd2fd84411db2175ce749005524.md', 'start_index': 0})], 'answer': 'The provided context does not include information on any students that Abhinav Ramesh Kashyap may have mentored in the past few years.'}\u001b[0m{'steps': [AgentStep(action=ToolAgentAction(tool='site-answer-tool', tool_input={'query': 'Which students did Abhinav offere mentorship in the past few years?', 'session_id': 'abc'}, log=\"\\nInvoking: `site-answer-tool` with `{'query': 'Which students did Abhinav offere mentorship in the past few years?', 'session_id': 'abc'}`\\n\\n\\n\", message_log=[AIMessageChunk(content='', additional_kwargs={'tool_calls': [{'index': 0, 'id': 'call_z5iJw06BaAUzBvkX9rjm45WZ', 'function': {'arguments': '{\\n\"query\": \"Which students did Abhinav offere mentorship in the past few years?\",\\n\"session_id\": \"abc\"\\n}', 'name': 'site-answer-tool'}, 'type': 'function'}]}, response_metadata={'finish_reason': 'tool_calls'}, id='run-26ae2946-4b4f-49a5-8b69-734c08305177', tool_calls=[{'name': 'site-answer-tool', 'args': {'query': 'Which students did Abhinav offere mentorship in the past few years?', 'session_id': 'abc'}, 'id': 'call_z5iJw06BaAUzBvkX9rjm45WZ'}], tool_call_chunks=[{'name': 'site-answer-tool', 'args': '{\\n\"query\": \"Which students did Abhinav offere mentorship in the past few years?\",\\n\"session_id\": \"abc\"\\n}', 'id': 'call_z5iJw06BaAUzBvkX9rjm45WZ', 'index': 0}])], tool_call_id='call_z5iJw06BaAUzBvkX9rjm45WZ'), observation={'input': 'Which students did Abhinav offere mentorship in the past few years?', 'chat_history': [HumanMessage(content='Which students did Abhinav offere mentorship in the past few years?'), AIMessage(content='The provided context does not include information on any students that Abhinav Ramesh Kashyap may have mentored in the past few years.'), HumanMessage(content='Which students did Abhinav offere mentorship in the past few years?'), AIMessage(content='The provided context does not include information on any students that Abhinav Ramesh Kashyap may have mentored in the past few years.'), HumanMessage(content='Which students did Abhinav offere mentorship in the past few years?'), AIMessage(content='The provided context does not include information on any students that Abhinav Ramesh Kashyap may have mentored in the past few years.')], 'context': [Document(page_content='# Abhinav Ramesh Kashyap\\n\\n![abhinav_pic.jpeg](Abhinav%20Ramesh%20Kashyap%202a5b5c4c70f240359dc297eaa025b430/abhinav_pic.jpeg)\\n\\n[https://notaku.so/iframes/clickable-image/eyJpbWFnZVVybCI6Imh0dHBzOi8vZW5jcnlwdGVkLXRibjAuZ3N0YXRpYy5jb20vaW1hZ2VzP3E9dGJuOkFOZDlHY1FPWnRzS0VJMTFOR3FMVk1ObFZ2WE5fUTZUeVhNUXVPZ2Q1U0IwV0Y2TzdRJnMiLCJsaW5rSHJlZiI6Imh0dHBzOi8vc2Nob2xhci5nb29nbGUuY29tL2NpdGF0aW9ucz91c2VyPXVjM3UwWkFBQUFBSiZobD1lbiJ9](https://notaku.so/iframes/clickable-image/eyJpbWFnZVVybCI6Imh0dHBzOi8vZW5jcnlwdGVkLXRibjAuZ3N0YXRpYy5jb20vaW1hZ2VzP3E9dGJuOkFOZDlHY1FPWnRzS0VJMTFOR3FMVk1ObFZ2WE5fUTZUeVhNUXVPZ2Q1U0IwV0Y2TzdRJnMiLCJsaW5rSHJlZiI6Imh0dHBzOi8vc2Nob2xhci5nb29nbGUuY29tL2NpdGF0aW9ucz91c2VyPXVjM3UwWkFBQUFBSiZobD1lbiJ9)', metadata={'filename': '../abhinav_notion/Abhinav Ramesh Kashyap 2a5b5c4c70f240359dc297eaa025b430.md', 'start_index': 0}), Document(page_content='Hey I’m Abhinav. I am a AI Scientist at ASUS-AICS. I work on Natural Language Processing and I am  interested in processing clinical notes. \\n\\n“Let me try my hand at machine learning” started my exploration on the subject during my Masters. I stayed in college for my PhD.  I was advised by [Prof Min-Yen Kan](https://www.comp.nus.edu.sg/~kanmy/)  and we worked on understanding text originating from different sources and not just mainstream media.  I now focus on help machines understand clinical notes and other text written by clinicians and doctors as a scientist in Singapore. \\n\\nI started as a web developer after my graduation in Bangalore. Developing websites and web in general still excites me. Apart from training machines to learn about human languages, I enjoy playing my guitar and singing. I also  [sketch](https://www.instagram.com/art.abhi.asa/) in my spare time.', metadata={'filename': '../abhinav_notion/Abhinav Ramesh Kashyap 2a5b5c4c70f240359dc297eaa025b430.md', 'start_index': 0}), Document(page_content='[https://notaku.so/iframes/clickable-image/eyJpbWFnZVVybCI6Imh0dHBzOi8vZW5jcnlwdGVkLXRibjAuZ3N0YXRpYy5jb20vaW1hZ2VzP3E9dGJuOkFOZDlHY1RMV0FlbWMzMFZRZkluMEFuU3AybDE1dUR2WXptYUZfdU1YZyZ1c3FwPUNBVSIsImxpbmtIcmVmIjoiaHR0cHM6Ly90d2l0dGVyLmNvbS9hYmthc2h5YXA5MiJ9](https://notaku.so/iframes/clickable-image/eyJpbWFnZVVybCI6Imh0dHBzOi8vZW5jcnlwdGVkLXRibjAuZ3N0YXRpYy5jb20vaW1hZ2VzP3E9dGJuOkFOZDlHY1RMV0FlbWMzMFZRZkluMEFuU3AybDE1dUR2WXptYUZfdU1YZyZ1c3FwPUNBVSIsImxpbmtIcmVmIjoiaHR0cHM6Ly90d2l0dGVyLmNvbS9hYmthc2h5YXA5MiJ9)\\n\\nHey I’m Abhinav. I am a AI Scientist at ASUS-AICS. I work on Natural Language Processing and I am  interested in processing clinical notes.', metadata={'filename': '../abhinav_notion/Abhinav Ramesh Kashyap 2a5b5c4c70f240359dc297eaa025b430.md', 'start_index': 0}), Document(page_content='<aside>\\n🧑\\u200d🔬 **PAPER NOTES**\\nI write notes about the papers I read and post it here.\\n\\n</aside>\\n\\n[GLaM: Efficient Scaling of Language Models with Mixture of Experts ](Abhinav%20Ramesh%20Kashyap%202a5b5c4c70f240359dc297eaa025b430/GLaM%20Efficient%20Scaling%20of%20Language%20Models%20with%20Mix%20daa1c17d134249129c43a311d3ff31c5.md)\\n\\n[Publicly Shareable Clinical Large Language model Built on Synthetic Clinical Notes](Abhinav%20Ramesh%20Kashyap%202a5b5c4c70f240359dc297eaa025b430/Publicly%20Shareable%20Clinical%20Large%20Language%20model%20B%20f11a9464b4f44362a1b28ef44c9f32ea.md)\\n\\n[MAUVE - Measuring the Gap Between Neural text and Human Text using Divergence Frontiers](Abhinav%20Ramesh%20Kashyap%202a5b5c4c70f240359dc297eaa025b430/MAUVE%20-%20Measuring%20the%20Gap%20Between%20Neural%20text%20and%20%208e061734893e41fcb7cb8e1bc42b4c0b.md)', metadata={'filename': '../abhinav_notion/Abhinav Ramesh Kashyap 2a5b5c4c70f240359dc297eaa025b430.md', 'start_index': 0}), Document(page_content='[Understanding Dataset Difficulty](Abhinav%20Ramesh%20Kashyap%202a5b5c4c70f240359dc297eaa025b430/Understanding%20Dataset%20Difficulty%20ad876cd2fd84411db2175ce749005524.md)\\n\\n<aside>\\n🏙️ **OTHER WRITINGS** \\nOther writings. General Musings\\n\\n</aside>\\n\\n---\\n\\nThanks to [Reza Arkan](https://rezaarkan.com/) for inspiring me to create my website using Notion. I made this website using Notion And [Fruition](https://www.notion.so/Fruition-Free-Open-Source-Toolkit-for-Building-Websites-with-Notion-771ef38657244c27b9389734a9cbff44?pvs=21). Give it a try.', metadata={'filename': '../abhinav_notion/Abhinav Ramesh Kashyap 2a5b5c4c70f240359dc297eaa025b430.md', 'start_index': 0}), Document(page_content='<aside>\\n🤔 This paper only deals with a family of models that are suitable for classification only. How can we do siimlar kind of analysis for generative models still needs to be explored. For example, how hard is to for the model to translate this instance or to sumamrize this article that is more reelvant in the current times of large language models is still not known\\n\\n</aside>\\n\\nThe paper and the insights regarding the next frontier of innovation in dataset analysis and augmentation are intriguing. Analyzing and enhancing existing datasets are critical steps in improving the performance and robustness of large language models. This is especially important given the central role that these models play in various natural language processing tasks.\\n\\nIf you would like to discuss the paper or exchange thoughts further, feel free to reach out via email at [**abkashyap92@protonmail.com**](mailto:abkashyap92@protonmail.com).', metadata={'filename': '../abhinav_notion/Abhinav Ramesh Kashyap 2a5b5c4c70f240359dc297eaa025b430/Understanding Dataset Difficulty ad876cd2fd84411db2175ce749005524.md', 'start_index': 0})], 'answer': 'The provided context does not include information on any students that Abhinav Ramesh Kashyap may have mentored in the past few years.'})], 'messages': [FunctionMessage(content=\"{'input': 'Which students did Abhinav offere mentorship in the past few years?', 'chat_history': [HumanMessage(content='Which students did Abhinav offere mentorship in the past few years?'), AIMessage(content='The provided context does not include information on any students that Abhinav Ramesh Kashyap may have mentored in the past few years.'), HumanMessage(content='Which students did Abhinav offere mentorship in the past few years?'), AIMessage(content='The provided context does not include information on any students that Abhinav Ramesh Kashyap may have mentored in the past few years.'), HumanMessage(content='Which students did Abhinav offere mentorship in the past few years?'), AIMessage(content='The provided context does not include information on any students that Abhinav Ramesh Kashyap may have mentored in the past few years.')], 'context': [Document(page_content='# Abhinav Ramesh Kashyap\\\\n\\\\n![abhinav_pic.jpeg](Abhinav%20Ramesh%20Kashyap%202a5b5c4c70f240359dc297eaa025b430/abhinav_pic.jpeg)\\\\n\\\\n[https://notaku.so/iframes/clickable-image/eyJpbWFnZVVybCI6Imh0dHBzOi8vZW5jcnlwdGVkLXRibjAuZ3N0YXRpYy5jb20vaW1hZ2VzP3E9dGJuOkFOZDlHY1FPWnRzS0VJMTFOR3FMVk1ObFZ2WE5fUTZUeVhNUXVPZ2Q1U0IwV0Y2TzdRJnMiLCJsaW5rSHJlZiI6Imh0dHBzOi8vc2Nob2xhci5nb29nbGUuY29tL2NpdGF0aW9ucz91c2VyPXVjM3UwWkFBQUFBSiZobD1lbiJ9](https://notaku.so/iframes/clickable-image/eyJpbWFnZVVybCI6Imh0dHBzOi8vZW5jcnlwdGVkLXRibjAuZ3N0YXRpYy5jb20vaW1hZ2VzP3E9dGJuOkFOZDlHY1FPWnRzS0VJMTFOR3FMVk1ObFZ2WE5fUTZUeVhNUXVPZ2Q1U0IwV0Y2TzdRJnMiLCJsaW5rSHJlZiI6Imh0dHBzOi8vc2Nob2xhci5nb29nbGUuY29tL2NpdGF0aW9ucz91c2VyPXVjM3UwWkFBQUFBSiZobD1lbiJ9)', metadata={'filename': '../abhinav_notion/Abhinav Ramesh Kashyap 2a5b5c4c70f240359dc297eaa025b430.md', 'start_index': 0}), Document(page_content='Hey I’m Abhinav. I am a AI Scientist at ASUS-AICS. I work on Natural Language Processing and I am  interested in processing clinical notes. \\\\n\\\\n“Let me try my hand at machine learning” started my exploration on the subject during my Masters. I stayed in college for my PhD.  I was advised by [Prof Min-Yen Kan](https://www.comp.nus.edu.sg/~kanmy/)  and we worked on understanding text originating from different sources and not just mainstream media.  I now focus on help machines understand clinical notes and other text written by clinicians and doctors as a scientist in Singapore. \\\\n\\\\nI started as a web developer after my graduation in Bangalore. Developing websites and web in general still excites me. Apart from training machines to learn about human languages, I enjoy playing my guitar and singing. I also  [sketch](https://www.instagram.com/art.abhi.asa/) in my spare time.', metadata={'filename': '../abhinav_notion/Abhinav Ramesh Kashyap 2a5b5c4c70f240359dc297eaa025b430.md', 'start_index': 0}), Document(page_content='[https://notaku.so/iframes/clickable-image/eyJpbWFnZVVybCI6Imh0dHBzOi8vZW5jcnlwdGVkLXRibjAuZ3N0YXRpYy5jb20vaW1hZ2VzP3E9dGJuOkFOZDlHY1RMV0FlbWMzMFZRZkluMEFuU3AybDE1dUR2WXptYUZfdU1YZyZ1c3FwPUNBVSIsImxpbmtIcmVmIjoiaHR0cHM6Ly90d2l0dGVyLmNvbS9hYmthc2h5YXA5MiJ9](https://notaku.so/iframes/clickable-image/eyJpbWFnZVVybCI6Imh0dHBzOi8vZW5jcnlwdGVkLXRibjAuZ3N0YXRpYy5jb20vaW1hZ2VzP3E9dGJuOkFOZDlHY1RMV0FlbWMzMFZRZkluMEFuU3AybDE1dUR2WXptYUZfdU1YZyZ1c3FwPUNBVSIsImxpbmtIcmVmIjoiaHR0cHM6Ly90d2l0dGVyLmNvbS9hYmthc2h5YXA5MiJ9)\\\\n\\\\nHey I’m Abhinav. I am a AI Scientist at ASUS-AICS. I work on Natural Language Processing and I am  interested in processing clinical notes.', metadata={'filename': '../abhinav_notion/Abhinav Ramesh Kashyap 2a5b5c4c70f240359dc297eaa025b430.md', 'start_index': 0}), Document(page_content='<aside>\\\\n🧑\\\\u200d🔬 **PAPER NOTES**\\\\nI write notes about the papers I read and post it here.\\\\n\\\\n</aside>\\\\n\\\\n[GLaM: Efficient Scaling of Language Models with Mixture of Experts ](Abhinav%20Ramesh%20Kashyap%202a5b5c4c70f240359dc297eaa025b430/GLaM%20Efficient%20Scaling%20of%20Language%20Models%20with%20Mix%20daa1c17d134249129c43a311d3ff31c5.md)\\\\n\\\\n[Publicly Shareable Clinical Large Language model Built on Synthetic Clinical Notes](Abhinav%20Ramesh%20Kashyap%202a5b5c4c70f240359dc297eaa025b430/Publicly%20Shareable%20Clinical%20Large%20Language%20model%20B%20f11a9464b4f44362a1b28ef44c9f32ea.md)\\\\n\\\\n[MAUVE - Measuring the Gap Between Neural text and Human Text using Divergence Frontiers](Abhinav%20Ramesh%20Kashyap%202a5b5c4c70f240359dc297eaa025b430/MAUVE%20-%20Measuring%20the%20Gap%20Between%20Neural%20text%20and%20%208e061734893e41fcb7cb8e1bc42b4c0b.md)', metadata={'filename': '../abhinav_notion/Abhinav Ramesh Kashyap 2a5b5c4c70f240359dc297eaa025b430.md', 'start_index': 0}), Document(page_content='[Understanding Dataset Difficulty](Abhinav%20Ramesh%20Kashyap%202a5b5c4c70f240359dc297eaa025b430/Understanding%20Dataset%20Difficulty%20ad876cd2fd84411db2175ce749005524.md)\\\\n\\\\n<aside>\\\\n🏙️ **OTHER WRITINGS** \\\\nOther writings. General Musings\\\\n\\\\n</aside>\\\\n\\\\n---\\\\n\\\\nThanks to [Reza Arkan](https://rezaarkan.com/) for inspiring me to create my website using Notion. I made this website using Notion And [Fruition](https://www.notion.so/Fruition-Free-Open-Source-Toolkit-for-Building-Websites-with-Notion-771ef38657244c27b9389734a9cbff44?pvs=21). Give it a try.', metadata={'filename': '../abhinav_notion/Abhinav Ramesh Kashyap 2a5b5c4c70f240359dc297eaa025b430.md', 'start_index': 0}), Document(page_content='<aside>\\\\n🤔 This paper only deals with a family of models that are suitable for classification only. How can we do siimlar kind of analysis for generative models still needs to be explored. For example, how hard is to for the model to translate this instance or to sumamrize this article that is more reelvant in the current times of large language models is still not known\\\\n\\\\n</aside>\\\\n\\\\nThe paper and the insights regarding the next frontier of innovation in dataset analysis and augmentation are intriguing. Analyzing and enhancing existing datasets are critical steps in improving the performance and robustness of large language models. This is especially important given the central role that these models play in various natural language processing tasks.\\\\n\\\\nIf you would like to discuss the paper or exchange thoughts further, feel free to reach out via email at [**abkashyap92@protonmail.com**](mailto:abkashyap92@protonmail.com).', metadata={'filename': '../abhinav_notion/Abhinav Ramesh Kashyap 2a5b5c4c70f240359dc297eaa025b430/Understanding Dataset Difficulty ad876cd2fd84411db2175ce749005524.md', 'start_index': 0})], 'answer': 'The provided context does not include information on any students that Abhinav Ramesh Kashyap may have mentored in the past few years.'}\", name='site-answer-tool')]}\n",
      "====\n",
      "{'actions': [ToolAgentAction(tool='cv-answer-tool', tool_input={'query': 'Which students did Abhinav offere mentorship in the past few years?', 'session_id': 'abc'}, log=\"\\nInvoking: `cv-answer-tool` with `{'query': 'Which students did Abhinav offere mentorship in the past few years?', 'session_id': 'abc'}`\\n\\n\\n\", message_log=[AIMessageChunk(content='', additional_kwargs={'tool_calls': [{'index': 0, 'id': 'call_hxOgeddOHcH7GaZArdyhxBf3', 'function': {'arguments': '{\"query\": \"Which students did Abhinav offere mentorship in the past few years?\", \"session_id\": \"abc\"}', 'name': 'cv-answer-tool'}, 'type': 'function'}]}, response_metadata={'finish_reason': 'tool_calls'}, id='run-82630fc8-c4c5-4092-adb5-435135b1cc51', tool_calls=[{'name': 'cv-answer-tool', 'args': {'query': 'Which students did Abhinav offere mentorship in the past few years?', 'session_id': 'abc'}, 'id': 'call_hxOgeddOHcH7GaZArdyhxBf3'}], tool_call_chunks=[{'name': 'cv-answer-tool', 'args': '{\"query\": \"Which students did Abhinav offere mentorship in the past few years?\", \"session_id\": \"abc\"}', 'id': 'call_hxOgeddOHcH7GaZArdyhxBf3', 'index': 0}])], tool_call_id='call_hxOgeddOHcH7GaZArdyhxBf3')], 'messages': [AIMessageChunk(content='', additional_kwargs={'tool_calls': [{'index': 0, 'id': 'call_hxOgeddOHcH7GaZArdyhxBf3', 'function': {'arguments': '{\"query\": \"Which students did Abhinav offere mentorship in the past few years?\", \"session_id\": \"abc\"}', 'name': 'cv-answer-tool'}, 'type': 'function'}]}, response_metadata={'finish_reason': 'tool_calls'}, id='run-82630fc8-c4c5-4092-adb5-435135b1cc51', tool_calls=[{'name': 'cv-answer-tool', 'args': {'query': 'Which students did Abhinav offere mentorship in the past few years?', 'session_id': 'abc'}, 'id': 'call_hxOgeddOHcH7GaZArdyhxBf3'}], tool_call_chunks=[{'name': 'cv-answer-tool', 'args': '{\"query\": \"Which students did Abhinav offere mentorship in the past few years?\", \"session_id\": \"abc\"}', 'id': 'call_hxOgeddOHcH7GaZArdyhxBf3', 'index': 0}])]}\n",
      "====\n",
      "\u001b[32;1m\u001b[1;3m\n",
      "Invoking: `cv-answer-tool` with `{'query': 'Which students did Abhinav offere mentorship in the past few years?', 'session_id': 'abc'}`\n",
      "\n",
      "\n",
      "\u001b[0m\u001b[33;1m\u001b[1;3m{'input': 'Which students did Abhinav offere mentorship in the past few years?', 'chat_history': [HumanMessage(content='Which students did Abhinav offere mentorship in the past few years?'), AIMessage(content='Abhinav Ramesh Kashyap offered mentorship to several students in the past years, including Anand Subramanian for his Masters Thesis & Internship in 2023-2024, Benedict for his Masters Thesis in 2021-2022, Li Xinze for his Undergrad Final Year Project in 2019-2020, Calvin Tantio for his Undergrad Final Year Project in 2018-2019, and Shi Tian for his Undergrad Final Year Project in 2018-2019.'), HumanMessage(content='Which students did Abhinav offere mentorship in the past few years?'), AIMessage(content='Abhinav Ramesh Kashyap offered mentorship to several students in the past years, including Anand Subramanian for his Masters Thesis & Internship in 2023-2024, Benedict for his Masters Thesis in 2021-2022, Li Xinze for his Undergrad Final Year Project in 2019-2020, Calvin Tantio for his Undergrad Final Year Project in 2018-2019, and Shi Tian for his Undergrad Final Year Project in 2018-2019.'), HumanMessage(content='Which students did Abhinav offere mentorship in the past few years?'), AIMessage(content='Abhinav Ramesh Kashyap offered mentorship to several students in the past few years. These students include Anand Subramanian (Masters Thesis & Internship, 2023-2024), Benedict (Masters Thesis, 2021-2022), Li Xinze (Undergrad Final Year Project, 2019-2020), Calvin Tantio (Undergrad Final Year Project, 2018-2019), and Shi Tian (Undergrad Final Year Project, 2018-2019).')], 'context': [Document(page_content='Abhinav Ramesh Kashyap (Ph.D.)\\n\\nAI SCIENTIST, ASUS-AICS, SINGAPORE (WILLING TO RELOCATE TO INDIA) ABHINAVKASHYAP92@GMAIL.COM PHONE: +65-86577463\\n\\nIntroduction\\n\\nAs an AI Scientist at ASUS-AICS, I boost clinician productivity with innovative research. My expertise includes parameter- efficient fine-tuning, domain adaptation, and speech processing. Working closely with healthcare professionals, I tackle real-world challenges, leading to impactful developments and publications at prestigious conferences.\\n\\nExperience ASUS-AICS AI SCIENTIST\\n\\nSingapore\\n\\nOct 2022 - Present\\n\\nConducted research in areas including Clinical Natural Language Processing (NLP) and Speech Processing, addressing critical\\n\\nchallenges and creating new methodologies.\\n\\nEngaged in collaboration with Product Managers to precisely define product requirements, ensuring alignment with market\\n\\nneeds and technological capabilities.', metadata={'source': '/Users/abhinavkashyap/abhi/projects/knowme/CV.pdf', 'start_index': 0}), Document(page_content='Teaching\\n\\nFall 2022 Fall 2021 Spring 2020 Spring 2019\\n\\nCS-3244 - Machine Learning, Instructor: Min-Yen Kan, Brian Lim CS-3244 - Machine Learning, Instructor: Min-Yen Kan CS-3245 - Information Retrieval, Instructor: Zhao Jin CS-2010 - Data Structure and Algotihms - II, Instructor: Roger Zimmermann\\n\\nMentorship\\n\\n2023-2024 2021-2022 2019-2020 2018-2019 2018-2019\\n\\nAnand Subramanian, Masters Thesis & Internship Benedict, Masters Thesis Li Xinze, Undergrad Final Year Project Calvin Tantio, Undergrad Final Year Project Shi Tian, Undergrad Final Year Project\\n\\nProfessional Service Reviewer Invited Talks\\n\\nNeurips, ICML, ICLR, ACL ARR, Ontario Tech U, SUTD Singapore,\\n\\nHonors & Awards 2024 2022 2018 2016 2016\\n\\nAwarded, Productivity Ninja Awarded, Outstanding Reviewer Awarded, NUS Research Scholarship 1ST place, NUS SoC Term Project Showcase Runners Up, NUS Business Analytics Center Award\\n\\nEACL 2024\\n\\nNUS, Singapore NUS, Singapore NUS, Singapore NUS, Singapore', metadata={'source': '/Users/abhinavkashyap/abhi/projects/knowme/CV.pdf', 'start_index': 6313}), Document(page_content='Advisor: Mahdi Namazifar, Devamanyu Hazarika, Yang Liu, Dilek Hakkani-Tur\\n\\nNational University of Singapore RESEARCH ASSISTANT\\n\\nSingapore\\n\\nAug. 2017 - July 2018\\n\\nAnalyzed and identified patterns of worry within social media topics, employing advanced data analytics to monitor and under-\\n\\nstand user sentiment.\\n\\nDesigned and developed interactive dashboards, presenting key insights and analytics to partners, enhancing decision-making\\n\\nand strategic planning\\n\\nAdvisor: Mohan Kankanhalli\\n\\nIntuit Inc. SOFTWARE ENGINEER\\n\\nBangalore, India\\n\\nAug. 2014 - July 2015\\n\\n• • Developed an intelligent module packaging system and devised a mechanism for on-demand low-latency package loading that improved the web-page loading speeds.\\n\\nImproved the checkout experience for an e-commerce website - intuitmarket.com Improved the architecture of the website and introduced new workflows for building and testing the website.\\n\\nEducation National University of Singapore PH.D. IN COMPUTER SCIENCE\\n\\nSingapore', metadata={'source': '/Users/abhinavkashyap/abhi/projects/knowme/CV.pdf', 'start_index': 1575}), Document(page_content='Education National University of Singapore PH.D. IN COMPUTER SCIENCE\\n\\nSingapore\\n\\n2018 - 2022\\n\\nAdvisor: Min-Yen Kan • Thesis Applications of Domain Divergences for Domain Adaptation in NLP\\n\\nNational University of Singapore MASTERS OF COMPUTING\\n\\nAdvisor: Mohan Kankanhalli • Thesis: Aspect-based Multimodal Restaurant Review Summarization\\n\\nPES Institute of Technology BACHELORS OF COMPUTER SCIENCE AND ENGINEERING\\n\\nPublications RESEARCH DIRECTION I: DOMAIN ADAPTATION\\n\\nUDAPTER: Efficient Domain Adaptation using Adapters\\n\\nABHINAV RAMESH KASHYAP, BHAVITVYA MALIK, MIN-YEN KAN, SOUJANYA PORIA • Introduced a novel method for unsupervised domain adaptation by composing multiple adapters.\\n\\nEffectively bridges the gap between source and target domains without extensive retraining.\\n\\nAchieved performance comparable to fully fine-tuned domain adaptation models with significantly\\n\\nreduced computational overhead – optimizing only 10% of the parameters', metadata={'source': '/Users/abhinavkashyap/abhi/projects/knowme/CV.pdf', 'start_index': 2486}), Document(page_content='synthesis for novel speakers, showcasing adaptability and improved speaker generalization.\\n\\nDemonstrated superior performance, surpassing established benchmarks by over 5%, while effi- ciently utilizing only 11% of the total model parameters, emphasizing the method’s effectiveness and efficiency.\\n\\nSingapore\\n\\n2015 - 2017\\n\\nBangalore, India\\n\\nAug. 2010 - 2014\\n\\nEACL 2023\\n\\nACL 2022\\n\\nACL’24\\n\\nIn Progress\\n\\nINTERSPEECH 2023\\n\\nA Comprehensive Survey of Sentence Representations: From the BERT Epoch to the CHATGPT Era and Beyond\\n\\nABHINAV RAMESH KASHYAP, THANH-TUNG NGUYEN, VIKTOR SCHLEGEL, STEFAN WINKLER, SEE-KIONG NG, SOUJANYA PORIA • Recognized a significant gap in the comprehensive literature review of sentence representation tech-\\n\\nniques, highlighting an overlooked area of research.\\n\\nSystematically compiled and organized existing literature on sentence representations, offering in- sightful future research directions with a particular focus on applications within the clinical domain.\\n\\nTeaching', metadata={'source': '/Users/abhinavkashyap/abhi/projects/knowme/CV.pdf', 'start_index': 5323}), Document(page_content='DOC-THE-TALK: End-End Summarization of Clinical Dialogues to Electronic Medical Records\\n\\nABHINAV RAMESH KASHYAP, AMBUJ MEHRISH, BHAVITVYA MALIK, KELVIN LI, KEVIN, SEAN, SOUJANYA PORIA, STEFAN WINKLER • Developed clinically accurate synthetic speech dialogues simulating doctor-patient interactions. • Developed a rubric with clinicians from a hospital in Singapore that assesses realism and applicability\\n\\nin real-world medical scenarios\\n\\nBenchmarked end-to-end summarization models on the generated dataset\\n\\nOTHER RESEARCH DIRECTIONS\\n\\nADAPTERMIX: Exploring the Efficacy of Mixture of Adapters for Low-Resource TTS Adaptation\\n\\nAMBUJ MEHRISH, ABHINAV RAMESH KASHYAP, LI YINGTING, NAVONIL MAJUMDER, SOUJANYA PORIA • Introduced an innovative ”mixture of adapters” approach designed to enhance Text-to-Speech (TTS)\\n\\nsynthesis for novel speakers, showcasing adaptability and improved speaker generalization.', metadata={'source': '/Users/abhinavkashyap/abhi/projects/knowme/CV.pdf', 'start_index': 4511})], 'answer': 'Abhinav Ramesh Kashyap offered mentorship to several students in the past few years. These students include Anand Subramanian (Masters Thesis & Internship, 2023-2024), Benedict (Masters Thesis, 2021-2022), Li Xinze (Undergrad Final Year Project, 2019-2020), Calvin Tantio (Undergrad Final Year Project, 2018-2019), and Shi Tian (Undergrad Final Year Project, 2018-2019).'}\u001b[0m{'steps': [AgentStep(action=ToolAgentAction(tool='cv-answer-tool', tool_input={'query': 'Which students did Abhinav offere mentorship in the past few years?', 'session_id': 'abc'}, log=\"\\nInvoking: `cv-answer-tool` with `{'query': 'Which students did Abhinav offere mentorship in the past few years?', 'session_id': 'abc'}`\\n\\n\\n\", message_log=[AIMessageChunk(content='', additional_kwargs={'tool_calls': [{'index': 0, 'id': 'call_hxOgeddOHcH7GaZArdyhxBf3', 'function': {'arguments': '{\"query\": \"Which students did Abhinav offere mentorship in the past few years?\", \"session_id\": \"abc\"}', 'name': 'cv-answer-tool'}, 'type': 'function'}]}, response_metadata={'finish_reason': 'tool_calls'}, id='run-82630fc8-c4c5-4092-adb5-435135b1cc51', tool_calls=[{'name': 'cv-answer-tool', 'args': {'query': 'Which students did Abhinav offere mentorship in the past few years?', 'session_id': 'abc'}, 'id': 'call_hxOgeddOHcH7GaZArdyhxBf3'}], tool_call_chunks=[{'name': 'cv-answer-tool', 'args': '{\"query\": \"Which students did Abhinav offere mentorship in the past few years?\", \"session_id\": \"abc\"}', 'id': 'call_hxOgeddOHcH7GaZArdyhxBf3', 'index': 0}])], tool_call_id='call_hxOgeddOHcH7GaZArdyhxBf3'), observation={'input': 'Which students did Abhinav offere mentorship in the past few years?', 'chat_history': [HumanMessage(content='Which students did Abhinav offere mentorship in the past few years?'), AIMessage(content='Abhinav Ramesh Kashyap offered mentorship to several students in the past years, including Anand Subramanian for his Masters Thesis & Internship in 2023-2024, Benedict for his Masters Thesis in 2021-2022, Li Xinze for his Undergrad Final Year Project in 2019-2020, Calvin Tantio for his Undergrad Final Year Project in 2018-2019, and Shi Tian for his Undergrad Final Year Project in 2018-2019.'), HumanMessage(content='Which students did Abhinav offere mentorship in the past few years?'), AIMessage(content='Abhinav Ramesh Kashyap offered mentorship to several students in the past years, including Anand Subramanian for his Masters Thesis & Internship in 2023-2024, Benedict for his Masters Thesis in 2021-2022, Li Xinze for his Undergrad Final Year Project in 2019-2020, Calvin Tantio for his Undergrad Final Year Project in 2018-2019, and Shi Tian for his Undergrad Final Year Project in 2018-2019.'), HumanMessage(content='Which students did Abhinav offere mentorship in the past few years?'), AIMessage(content='Abhinav Ramesh Kashyap offered mentorship to several students in the past few years. These students include Anand Subramanian (Masters Thesis & Internship, 2023-2024), Benedict (Masters Thesis, 2021-2022), Li Xinze (Undergrad Final Year Project, 2019-2020), Calvin Tantio (Undergrad Final Year Project, 2018-2019), and Shi Tian (Undergrad Final Year Project, 2018-2019).')], 'context': [Document(page_content='Abhinav Ramesh Kashyap (Ph.D.)\\n\\nAI SCIENTIST, ASUS-AICS, SINGAPORE (WILLING TO RELOCATE TO INDIA) ABHINAVKASHYAP92@GMAIL.COM PHONE: +65-86577463\\n\\nIntroduction\\n\\nAs an AI Scientist at ASUS-AICS, I boost clinician productivity with innovative research. My expertise includes parameter- efficient fine-tuning, domain adaptation, and speech processing. Working closely with healthcare professionals, I tackle real-world challenges, leading to impactful developments and publications at prestigious conferences.\\n\\nExperience ASUS-AICS AI SCIENTIST\\n\\nSingapore\\n\\nOct 2022 - Present\\n\\nConducted research in areas including Clinical Natural Language Processing (NLP) and Speech Processing, addressing critical\\n\\nchallenges and creating new methodologies.\\n\\nEngaged in collaboration with Product Managers to precisely define product requirements, ensuring alignment with market\\n\\nneeds and technological capabilities.', metadata={'source': '/Users/abhinavkashyap/abhi/projects/knowme/CV.pdf', 'start_index': 0}), Document(page_content='Teaching\\n\\nFall 2022 Fall 2021 Spring 2020 Spring 2019\\n\\nCS-3244 - Machine Learning, Instructor: Min-Yen Kan, Brian Lim CS-3244 - Machine Learning, Instructor: Min-Yen Kan CS-3245 - Information Retrieval, Instructor: Zhao Jin CS-2010 - Data Structure and Algotihms - II, Instructor: Roger Zimmermann\\n\\nMentorship\\n\\n2023-2024 2021-2022 2019-2020 2018-2019 2018-2019\\n\\nAnand Subramanian, Masters Thesis & Internship Benedict, Masters Thesis Li Xinze, Undergrad Final Year Project Calvin Tantio, Undergrad Final Year Project Shi Tian, Undergrad Final Year Project\\n\\nProfessional Service Reviewer Invited Talks\\n\\nNeurips, ICML, ICLR, ACL ARR, Ontario Tech U, SUTD Singapore,\\n\\nHonors & Awards 2024 2022 2018 2016 2016\\n\\nAwarded, Productivity Ninja Awarded, Outstanding Reviewer Awarded, NUS Research Scholarship 1ST place, NUS SoC Term Project Showcase Runners Up, NUS Business Analytics Center Award\\n\\nEACL 2024\\n\\nNUS, Singapore NUS, Singapore NUS, Singapore NUS, Singapore', metadata={'source': '/Users/abhinavkashyap/abhi/projects/knowme/CV.pdf', 'start_index': 6313}), Document(page_content='Advisor: Mahdi Namazifar, Devamanyu Hazarika, Yang Liu, Dilek Hakkani-Tur\\n\\nNational University of Singapore RESEARCH ASSISTANT\\n\\nSingapore\\n\\nAug. 2017 - July 2018\\n\\nAnalyzed and identified patterns of worry within social media topics, employing advanced data analytics to monitor and under-\\n\\nstand user sentiment.\\n\\nDesigned and developed interactive dashboards, presenting key insights and analytics to partners, enhancing decision-making\\n\\nand strategic planning\\n\\nAdvisor: Mohan Kankanhalli\\n\\nIntuit Inc. SOFTWARE ENGINEER\\n\\nBangalore, India\\n\\nAug. 2014 - July 2015\\n\\n• • Developed an intelligent module packaging system and devised a mechanism for on-demand low-latency package loading that improved the web-page loading speeds.\\n\\nImproved the checkout experience for an e-commerce website - intuitmarket.com Improved the architecture of the website and introduced new workflows for building and testing the website.\\n\\nEducation National University of Singapore PH.D. IN COMPUTER SCIENCE\\n\\nSingapore', metadata={'source': '/Users/abhinavkashyap/abhi/projects/knowme/CV.pdf', 'start_index': 1575}), Document(page_content='Education National University of Singapore PH.D. IN COMPUTER SCIENCE\\n\\nSingapore\\n\\n2018 - 2022\\n\\nAdvisor: Min-Yen Kan • Thesis Applications of Domain Divergences for Domain Adaptation in NLP\\n\\nNational University of Singapore MASTERS OF COMPUTING\\n\\nAdvisor: Mohan Kankanhalli • Thesis: Aspect-based Multimodal Restaurant Review Summarization\\n\\nPES Institute of Technology BACHELORS OF COMPUTER SCIENCE AND ENGINEERING\\n\\nPublications RESEARCH DIRECTION I: DOMAIN ADAPTATION\\n\\nUDAPTER: Efficient Domain Adaptation using Adapters\\n\\nABHINAV RAMESH KASHYAP, BHAVITVYA MALIK, MIN-YEN KAN, SOUJANYA PORIA • Introduced a novel method for unsupervised domain adaptation by composing multiple adapters.\\n\\nEffectively bridges the gap between source and target domains without extensive retraining.\\n\\nAchieved performance comparable to fully fine-tuned domain adaptation models with significantly\\n\\nreduced computational overhead – optimizing only 10% of the parameters', metadata={'source': '/Users/abhinavkashyap/abhi/projects/knowme/CV.pdf', 'start_index': 2486}), Document(page_content='synthesis for novel speakers, showcasing adaptability and improved speaker generalization.\\n\\nDemonstrated superior performance, surpassing established benchmarks by over 5%, while effi- ciently utilizing only 11% of the total model parameters, emphasizing the method’s effectiveness and efficiency.\\n\\nSingapore\\n\\n2015 - 2017\\n\\nBangalore, India\\n\\nAug. 2010 - 2014\\n\\nEACL 2023\\n\\nACL 2022\\n\\nACL’24\\n\\nIn Progress\\n\\nINTERSPEECH 2023\\n\\nA Comprehensive Survey of Sentence Representations: From the BERT Epoch to the CHATGPT Era and Beyond\\n\\nABHINAV RAMESH KASHYAP, THANH-TUNG NGUYEN, VIKTOR SCHLEGEL, STEFAN WINKLER, SEE-KIONG NG, SOUJANYA PORIA • Recognized a significant gap in the comprehensive literature review of sentence representation tech-\\n\\nniques, highlighting an overlooked area of research.\\n\\nSystematically compiled and organized existing literature on sentence representations, offering in- sightful future research directions with a particular focus on applications within the clinical domain.\\n\\nTeaching', metadata={'source': '/Users/abhinavkashyap/abhi/projects/knowme/CV.pdf', 'start_index': 5323}), Document(page_content='DOC-THE-TALK: End-End Summarization of Clinical Dialogues to Electronic Medical Records\\n\\nABHINAV RAMESH KASHYAP, AMBUJ MEHRISH, BHAVITVYA MALIK, KELVIN LI, KEVIN, SEAN, SOUJANYA PORIA, STEFAN WINKLER • Developed clinically accurate synthetic speech dialogues simulating doctor-patient interactions. • Developed a rubric with clinicians from a hospital in Singapore that assesses realism and applicability\\n\\nin real-world medical scenarios\\n\\nBenchmarked end-to-end summarization models on the generated dataset\\n\\nOTHER RESEARCH DIRECTIONS\\n\\nADAPTERMIX: Exploring the Efficacy of Mixture of Adapters for Low-Resource TTS Adaptation\\n\\nAMBUJ MEHRISH, ABHINAV RAMESH KASHYAP, LI YINGTING, NAVONIL MAJUMDER, SOUJANYA PORIA • Introduced an innovative ”mixture of adapters” approach designed to enhance Text-to-Speech (TTS)\\n\\nsynthesis for novel speakers, showcasing adaptability and improved speaker generalization.', metadata={'source': '/Users/abhinavkashyap/abhi/projects/knowme/CV.pdf', 'start_index': 4511})], 'answer': 'Abhinav Ramesh Kashyap offered mentorship to several students in the past few years. These students include Anand Subramanian (Masters Thesis & Internship, 2023-2024), Benedict (Masters Thesis, 2021-2022), Li Xinze (Undergrad Final Year Project, 2019-2020), Calvin Tantio (Undergrad Final Year Project, 2018-2019), and Shi Tian (Undergrad Final Year Project, 2018-2019).'})], 'messages': [FunctionMessage(content=\"{'input': 'Which students did Abhinav offere mentorship in the past few years?', 'chat_history': [HumanMessage(content='Which students did Abhinav offere mentorship in the past few years?'), AIMessage(content='Abhinav Ramesh Kashyap offered mentorship to several students in the past years, including Anand Subramanian for his Masters Thesis & Internship in 2023-2024, Benedict for his Masters Thesis in 2021-2022, Li Xinze for his Undergrad Final Year Project in 2019-2020, Calvin Tantio for his Undergrad Final Year Project in 2018-2019, and Shi Tian for his Undergrad Final Year Project in 2018-2019.'), HumanMessage(content='Which students did Abhinav offere mentorship in the past few years?'), AIMessage(content='Abhinav Ramesh Kashyap offered mentorship to several students in the past years, including Anand Subramanian for his Masters Thesis & Internship in 2023-2024, Benedict for his Masters Thesis in 2021-2022, Li Xinze for his Undergrad Final Year Project in 2019-2020, Calvin Tantio for his Undergrad Final Year Project in 2018-2019, and Shi Tian for his Undergrad Final Year Project in 2018-2019.'), HumanMessage(content='Which students did Abhinav offere mentorship in the past few years?'), AIMessage(content='Abhinav Ramesh Kashyap offered mentorship to several students in the past few years. These students include Anand Subramanian (Masters Thesis & Internship, 2023-2024), Benedict (Masters Thesis, 2021-2022), Li Xinze (Undergrad Final Year Project, 2019-2020), Calvin Tantio (Undergrad Final Year Project, 2018-2019), and Shi Tian (Undergrad Final Year Project, 2018-2019).')], 'context': [Document(page_content='Abhinav Ramesh Kashyap (Ph.D.)\\\\n\\\\nAI SCIENTIST, ASUS-AICS, SINGAPORE (WILLING TO RELOCATE TO INDIA) ABHINAVKASHYAP92@GMAIL.COM PHONE: +65-86577463\\\\n\\\\nIntroduction\\\\n\\\\nAs an AI Scientist at ASUS-AICS, I boost clinician productivity with innovative research. My expertise includes parameter- efficient fine-tuning, domain adaptation, and speech processing. Working closely with healthcare professionals, I tackle real-world challenges, leading to impactful developments and publications at prestigious conferences.\\\\n\\\\nExperience ASUS-AICS AI SCIENTIST\\\\n\\\\nSingapore\\\\n\\\\nOct 2022 - Present\\\\n\\\\nConducted research in areas including Clinical Natural Language Processing (NLP) and Speech Processing, addressing critical\\\\n\\\\nchallenges and creating new methodologies.\\\\n\\\\nEngaged in collaboration with Product Managers to precisely define product requirements, ensuring alignment with market\\\\n\\\\nneeds and technological capabilities.', metadata={'source': '/Users/abhinavkashyap/abhi/projects/knowme/CV.pdf', 'start_index': 0}), Document(page_content='Teaching\\\\n\\\\nFall 2022 Fall 2021 Spring 2020 Spring 2019\\\\n\\\\nCS-3244 - Machine Learning, Instructor: Min-Yen Kan, Brian Lim CS-3244 - Machine Learning, Instructor: Min-Yen Kan CS-3245 - Information Retrieval, Instructor: Zhao Jin CS-2010 - Data Structure and Algotihms - II, Instructor: Roger Zimmermann\\\\n\\\\nMentorship\\\\n\\\\n2023-2024 2021-2022 2019-2020 2018-2019 2018-2019\\\\n\\\\nAnand Subramanian, Masters Thesis & Internship Benedict, Masters Thesis Li Xinze, Undergrad Final Year Project Calvin Tantio, Undergrad Final Year Project Shi Tian, Undergrad Final Year Project\\\\n\\\\nProfessional Service Reviewer Invited Talks\\\\n\\\\nNeurips, ICML, ICLR, ACL ARR, Ontario Tech U, SUTD Singapore,\\\\n\\\\nHonors & Awards 2024 2022 2018 2016 2016\\\\n\\\\nAwarded, Productivity Ninja Awarded, Outstanding Reviewer Awarded, NUS Research Scholarship 1ST place, NUS SoC Term Project Showcase Runners Up, NUS Business Analytics Center Award\\\\n\\\\nEACL 2024\\\\n\\\\nNUS, Singapore NUS, Singapore NUS, Singapore NUS, Singapore', metadata={'source': '/Users/abhinavkashyap/abhi/projects/knowme/CV.pdf', 'start_index': 6313}), Document(page_content='Advisor: Mahdi Namazifar, Devamanyu Hazarika, Yang Liu, Dilek Hakkani-Tur\\\\n\\\\nNational University of Singapore RESEARCH ASSISTANT\\\\n\\\\nSingapore\\\\n\\\\nAug. 2017 - July 2018\\\\n\\\\nAnalyzed and identified patterns of worry within social media topics, employing advanced data analytics to monitor and under-\\\\n\\\\nstand user sentiment.\\\\n\\\\nDesigned and developed interactive dashboards, presenting key insights and analytics to partners, enhancing decision-making\\\\n\\\\nand strategic planning\\\\n\\\\nAdvisor: Mohan Kankanhalli\\\\n\\\\nIntuit Inc. SOFTWARE ENGINEER\\\\n\\\\nBangalore, India\\\\n\\\\nAug. 2014 - July 2015\\\\n\\\\n• • Developed an intelligent module packaging system and devised a mechanism for on-demand low-latency package loading that improved the web-page loading speeds.\\\\n\\\\nImproved the checkout experience for an e-commerce website - intuitmarket.com Improved the architecture of the website and introduced new workflows for building and testing the website.\\\\n\\\\nEducation National University of Singapore PH.D. IN COMPUTER SCIENCE\\\\n\\\\nSingapore', metadata={'source': '/Users/abhinavkashyap/abhi/projects/knowme/CV.pdf', 'start_index': 1575}), Document(page_content='Education National University of Singapore PH.D. IN COMPUTER SCIENCE\\\\n\\\\nSingapore\\\\n\\\\n2018 - 2022\\\\n\\\\nAdvisor: Min-Yen Kan • Thesis Applications of Domain Divergences for Domain Adaptation in NLP\\\\n\\\\nNational University of Singapore MASTERS OF COMPUTING\\\\n\\\\nAdvisor: Mohan Kankanhalli • Thesis: Aspect-based Multimodal Restaurant Review Summarization\\\\n\\\\nPES Institute of Technology BACHELORS OF COMPUTER SCIENCE AND ENGINEERING\\\\n\\\\nPublications RESEARCH DIRECTION I: DOMAIN ADAPTATION\\\\n\\\\nUDAPTER: Efficient Domain Adaptation using Adapters\\\\n\\\\nABHINAV RAMESH KASHYAP, BHAVITVYA MALIK, MIN-YEN KAN, SOUJANYA PORIA • Introduced a novel method for unsupervised domain adaptation by composing multiple adapters.\\\\n\\\\nEffectively bridges the gap between source and target domains without extensive retraining.\\\\n\\\\nAchieved performance comparable to fully fine-tuned domain adaptation models with significantly\\\\n\\\\nreduced computational overhead – optimizing only 10% of the parameters', metadata={'source': '/Users/abhinavkashyap/abhi/projects/knowme/CV.pdf', 'start_index': 2486}), Document(page_content='synthesis for novel speakers, showcasing adaptability and improved speaker generalization.\\\\n\\\\nDemonstrated superior performance, surpassing established benchmarks by over 5%, while effi- ciently utilizing only 11% of the total model parameters, emphasizing the method’s effectiveness and efficiency.\\\\n\\\\nSingapore\\\\n\\\\n2015 - 2017\\\\n\\\\nBangalore, India\\\\n\\\\nAug. 2010 - 2014\\\\n\\\\nEACL 2023\\\\n\\\\nACL 2022\\\\n\\\\nACL’24\\\\n\\\\nIn Progress\\\\n\\\\nINTERSPEECH 2023\\\\n\\\\nA Comprehensive Survey of Sentence Representations: From the BERT Epoch to the CHATGPT Era and Beyond\\\\n\\\\nABHINAV RAMESH KASHYAP, THANH-TUNG NGUYEN, VIKTOR SCHLEGEL, STEFAN WINKLER, SEE-KIONG NG, SOUJANYA PORIA • Recognized a significant gap in the comprehensive literature review of sentence representation tech-\\\\n\\\\nniques, highlighting an overlooked area of research.\\\\n\\\\nSystematically compiled and organized existing literature on sentence representations, offering in- sightful future research directions with a particular focus on applications within the clinical domain.\\\\n\\\\nTeaching', metadata={'source': '/Users/abhinavkashyap/abhi/projects/knowme/CV.pdf', 'start_index': 5323}), Document(page_content='DOC-THE-TALK: End-End Summarization of Clinical Dialogues to Electronic Medical Records\\\\n\\\\nABHINAV RAMESH KASHYAP, AMBUJ MEHRISH, BHAVITVYA MALIK, KELVIN LI, KEVIN, SEAN, SOUJANYA PORIA, STEFAN WINKLER • Developed clinically accurate synthetic speech dialogues simulating doctor-patient interactions. • Developed a rubric with clinicians from a hospital in Singapore that assesses realism and applicability\\\\n\\\\nin real-world medical scenarios\\\\n\\\\nBenchmarked end-to-end summarization models on the generated dataset\\\\n\\\\nOTHER RESEARCH DIRECTIONS\\\\n\\\\nADAPTERMIX: Exploring the Efficacy of Mixture of Adapters for Low-Resource TTS Adaptation\\\\n\\\\nAMBUJ MEHRISH, ABHINAV RAMESH KASHYAP, LI YINGTING, NAVONIL MAJUMDER, SOUJANYA PORIA • Introduced an innovative ”mixture of adapters” approach designed to enhance Text-to-Speech (TTS)\\\\n\\\\nsynthesis for novel speakers, showcasing adaptability and improved speaker generalization.', metadata={'source': '/Users/abhinavkashyap/abhi/projects/knowme/CV.pdf', 'start_index': 4511})], 'answer': 'Abhinav Ramesh Kashyap offered mentorship to several students in the past few years. These students include Anand Subramanian (Masters Thesis & Internship, 2023-2024), Benedict (Masters Thesis, 2021-2022), Li Xinze (Undergrad Final Year Project, 2019-2020), Calvin Tantio (Undergrad Final Year Project, 2018-2019), and Shi Tian (Undergrad Final Year Project, 2018-2019).'}\", name='cv-answer-tool')]}\n",
      "====\n",
      "\u001b[32;1m\u001b[1;3mAbhinav Ramesh Kashyap offered mentorship to several students in the past few years. These students include:\n",
      "\n",
      "1. Anand Subramanian for his Masters Thesis & Internship in 2023-2024\n",
      "2. Benedict for his Masters Thesis in 2021-2022\n",
      "3. Li Xinze for his Undergrad Final Year Project in 2019-2020\n",
      "4. Calvin Tantio for his Undergrad Final Year Project in 2018-2019\n",
      "5. Shi Tian for his Undergrad Final Year Project in 2018-2019.\u001b[0m\n",
      "\n",
      "\u001b[1m> Finished chain.\u001b[0m\n",
      "{'output': 'Abhinav Ramesh Kashyap offered mentorship to several students in the past few years. These students include:\\n\\n1. Anand Subramanian for his Masters Thesis & Internship in 2023-2024\\n2. Benedict for his Masters Thesis in 2021-2022\\n3. Li Xinze for his Undergrad Final Year Project in 2019-2020\\n4. Calvin Tantio for his Undergrad Final Year Project in 2018-2019\\n5. Shi Tian for his Undergrad Final Year Project in 2018-2019.', 'messages': [AIMessage(content='Abhinav Ramesh Kashyap offered mentorship to several students in the past few years. These students include:\\n\\n1. Anand Subramanian for his Masters Thesis & Internship in 2023-2024\\n2. Benedict for his Masters Thesis in 2021-2022\\n3. Li Xinze for his Undergrad Final Year Project in 2019-2020\\n4. Calvin Tantio for his Undergrad Final Year Project in 2018-2019\\n5. Shi Tian for his Undergrad Final Year Project in 2018-2019.')]}\n",
      "====\n"
     ]
    }
   ],
   "source": [
    "for chunk in answer:\n",
    "    print(chunk)\n",
    "    print(\"====\")"
   ]
  },
  {
   "cell_type": "code",
   "execution_count": 19,
   "metadata": {},
   "outputs": [
    {
     "ename": "TypeError",
     "evalue": "'generator' object is not subscriptable",
     "output_type": "error",
     "traceback": [
      "\u001b[0;31m---------------------------------------------------------------------------\u001b[0m",
      "\u001b[0;31mTypeError\u001b[0m                                 Traceback (most recent call last)",
      "Cell \u001b[0;32mIn[19], line 1\u001b[0m\n\u001b[0;32m----> 1\u001b[0m \u001b[43manswer\u001b[49m\u001b[43m[\u001b[49m\u001b[38;5;124;43m\"\u001b[39;49m\u001b[38;5;124;43moutput\u001b[39;49m\u001b[38;5;124;43m\"\u001b[39;49m\u001b[43m]\u001b[49m\n",
      "\u001b[0;31mTypeError\u001b[0m: 'generator' object is not subscriptable"
     ]
    }
   ],
   "source": [
    "answer[\"output\"]"
   ]
  }
 ],
 "metadata": {
  "kernelspec": {
   "display_name": "knowme-Vm6gcGsG-py3.9",
   "language": "python",
   "name": "python3"
  },
  "language_info": {
   "codemirror_mode": {
    "name": "ipython",
    "version": 3
   },
   "file_extension": ".py",
   "mimetype": "text/x-python",
   "name": "python",
   "nbconvert_exporter": "python",
   "pygments_lexer": "ipython3",
   "version": "3.9.13"
  }
 },
 "nbformat": 4,
 "nbformat_minor": 2
}
