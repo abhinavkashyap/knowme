{
 "cells": [
  {
   "cell_type": "code",
   "execution_count": 4,
   "metadata": {},
   "outputs": [
    {
     "name": "stdout",
     "output_type": "stream",
     "text": [
      "The autoreload extension is already loaded. To reload it, use:\n",
      "  %reload_ext autoreload\n"
     ]
    }
   ],
   "source": [
    "%load_ext autoreload\n",
    "%autoreload 2"
   ]
  },
  {
   "cell_type": "code",
   "execution_count": 5,
   "metadata": {},
   "outputs": [
    {
     "data": {
      "text/plain": [
       "True"
      ]
     },
     "execution_count": 5,
     "metadata": {},
     "output_type": "execute_result"
    }
   ],
   "source": [
    "from dotenv import load_dotenv\n",
    "from knowme.load_chains import load_site_answer_chain\n",
    "import os\n",
    "\n",
    "# Load the environment variables\n",
    "load_dotenv()"
   ]
  },
  {
   "cell_type": "code",
   "execution_count": 7,
   "metadata": {},
   "outputs": [],
   "source": [
    "notion_folderpath = os.environ[\"NOTION_FOLDER\"]\n",
    "site_vectorstore = os.environ[\"NOTION_SITE_VECTORSTORE\"]\n",
    "\n",
    "\n",
    "chat = load_site_answer_chain(\n",
    "    notion_folderpath=notion_folderpath, embedding_store_directory=site_vectorstore\n",
    ")"
   ]
  },
  {
   "cell_type": "code",
   "execution_count": 8,
   "metadata": {},
   "outputs": [
    {
     "name": "stdout",
     "output_type": "stream",
     "text": [
      "In March 2024, Abhinav Ramesh Kashyap presented a survey paper on sentence representations at the European Chapter of the Association for Computational Linguistics (EACL)."
     ]
    }
   ],
   "source": [
    "answer = chat.chat(\"What did Abhinav do in March 2024\", session_id=\"abc\")\n",
    "for chunk in answer:\n",
    "    if chunk.get(\"answer\"):\n",
    "        print(chunk[\"answer\"], end=\"\")"
   ]
  }
 ],
 "metadata": {
  "kernelspec": {
   "display_name": "knowme-Vm6gcGsG-py3.9",
   "language": "python",
   "name": "python3"
  },
  "language_info": {
   "codemirror_mode": {
    "name": "ipython",
    "version": 3
   },
   "file_extension": ".py",
   "mimetype": "text/x-python",
   "name": "python",
   "nbconvert_exporter": "python",
   "pygments_lexer": "ipython3",
   "version": "3.9.13"
  }
 },
 "nbformat": 4,
 "nbformat_minor": 2
}
